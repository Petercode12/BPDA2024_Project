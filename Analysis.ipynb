{
 "cells": [
  {
   "cell_type": "markdown",
   "metadata": {},
   "source": [
    "### Set up"
   ]
  },
  {
   "cell_type": "code",
   "execution_count": 1,
   "metadata": {},
   "outputs": [],
   "source": [
    "%matplotlib inline\n",
    "%config InlineBackend.figure_format = 'retina'\n",
    "from IPython.core.interactiveshell import InteractiveShell\n",
    "InteractiveShell.ast_node_interactivity = \"all\"\n",
    "import sys\n",
    "from pyspark.sql import SparkSession\n",
    "from pyspark import SparkFiles\n",
    "import pyspark.sql.functions as F\n",
    "import pyspark.sql.types as T \n",
    "from pyspark.ml.feature import OneHotEncoder, StringIndexer, VectorAssembler\n",
    "from pyspark.ml import Pipeline\n",
    "from pyspark.ml.classification import LogisticRegression, DecisionTreeClassifier, RandomForestClassifier, GBTClassifier\n",
    "from pyspark.ml.evaluation import BinaryClassificationEvaluator, MulticlassClassificationEvaluator"
   ]
  },
  {
   "cell_type": "code",
   "execution_count": 2,
   "metadata": {},
   "outputs": [
    {
     "data": {
      "text/html": [
       "\n",
       "            <div>\n",
       "                <p><b>SparkSession - in-memory</b></p>\n",
       "                \n",
       "        <div>\n",
       "            <p><b>SparkContext</b></p>\n",
       "\n",
       "            <p><a href=\"http://192.168.1.102:4040\">Spark UI</a></p>\n",
       "\n",
       "            <dl>\n",
       "              <dt>Version</dt>\n",
       "                <dd><code>v3.5.1</code></dd>\n",
       "              <dt>Master</dt>\n",
       "                <dd><code>local[6]</code></dd>\n",
       "              <dt>AppName</dt>\n",
       "                <dd><code>GroupProject</code></dd>\n",
       "            </dl>\n",
       "        </div>\n",
       "        \n",
       "            </div>\n",
       "        "
      ],
      "text/plain": [
       "<pyspark.sql.session.SparkSession at 0x215f6d7d890>"
      ]
     },
     "execution_count": 2,
     "metadata": {},
     "output_type": "execute_result"
    }
   ],
   "source": [
    "# Create a Spark session now to access functionalities of Spark\n",
    "spark = SparkSession.builder \\\n",
    ".config(\"spark.executor.memory\", \"4g\")\\\n",
    ".config(\"spark.driver.memory\", \"10g\")\\\n",
    ".master(\"local[6]\") \\\n",
    ".appName(\"GroupProject\") \\\n",
    ".getOrCreate()\n",
    "\n",
    "spark"
   ]
  },
  {
   "cell_type": "markdown",
   "metadata": {},
   "source": [
    "### Read data"
   ]
  },
  {
   "cell_type": "code",
   "execution_count": 3,
   "metadata": {},
   "outputs": [
    {
     "name": "stdout",
     "output_type": "stream",
     "text": [
      "['D:\\\\Oulu university courses\\\\Big data processing and applications\\\\Assignment\\\\Data 2009-2018\\\\2009.csv', 'D:\\\\Oulu university courses\\\\Big data processing and applications\\\\Assignment\\\\Data 2009-2018\\\\2010.csv', 'D:\\\\Oulu university courses\\\\Big data processing and applications\\\\Assignment\\\\Data 2009-2018\\\\2011.csv', 'D:\\\\Oulu university courses\\\\Big data processing and applications\\\\Assignment\\\\Data 2009-2018\\\\2012.csv', 'D:\\\\Oulu university courses\\\\Big data processing and applications\\\\Assignment\\\\Data 2009-2018\\\\2013.csv', 'D:\\\\Oulu university courses\\\\Big data processing and applications\\\\Assignment\\\\Data 2009-2018\\\\2014.csv', 'D:\\\\Oulu university courses\\\\Big data processing and applications\\\\Assignment\\\\Data 2009-2018\\\\2015.csv', 'D:\\\\Oulu university courses\\\\Big data processing and applications\\\\Assignment\\\\Data 2009-2018\\\\2016.csv', 'D:\\\\Oulu university courses\\\\Big data processing and applications\\\\Assignment\\\\Data 2009-2018\\\\2017.csv']\n"
     ]
    }
   ],
   "source": [
    "file_names_range = list(range(2009, 2018))\n",
    "# file_paths = [f'd://Oulu university courses//Big data processing and applications//Assignment//Data 2009-2018//{file}.csv' for file in file_names_range]\n",
    "file_paths = [f'D:\\Oulu university courses\\Big data processing and applications\\Assignment\\Data 2009-2018\\{file}.csv' for file in file_names_range]\n",
    "print(file_paths)"
   ]
  },
  {
   "cell_type": "code",
   "execution_count": 4,
   "metadata": {},
   "outputs": [],
   "source": [
    "schema = T.StructType([\n",
    "    T.StructField(\"FL_DATE\", T.TimestampType(), nullable=True),\n",
    "    T.StructField(\"OP_CARRIER\", T.StringType(), nullable=True),\n",
    "    T.StructField(\"OP_CARRIER_FL_NUM\", T.IntegerType(), nullable=True),\n",
    "    T.StructField(\"ORIGIN\", T.StringType(), nullable=True),\n",
    "    T.StructField(\"DEST\", T.StringType(), nullable=True),\n",
    "    T.StructField(\"CRS_DEP_TIME\", T.DoubleType(), nullable=True),\n",
    "    T.StructField(\"DEP_TIME\", T.DoubleType(), nullable=True),\n",
    "    T.StructField(\"DEP_DELAY\", T.DoubleType(), nullable=True),\n",
    "    T.StructField(\"TAXI_OUT\", T.DoubleType(), nullable=True),\n",
    "    T.StructField(\"WHEELS_OFF\", T.DoubleType(), nullable=True),\n",
    "    T.StructField(\"WHEELS_ON\", T.DoubleType(), nullable=True),\n",
    "    T.StructField(\"TAXI_IN\", T.DoubleType(), nullable=True),\n",
    "    T.StructField(\"CRS_ARR_TIME\", T.DoubleType(), nullable=True),\n",
    "    T.StructField(\"ARR_TIME\",T.DoubleType(), nullable=True),\n",
    "    T.StructField(\"ARR_DELAY\", T.DoubleType(), nullable=True),\n",
    "    T.StructField(\"CANCELLED\", T.DoubleType(), nullable=True),\n",
    "    T.StructField(\"CANCELLATION_CODE\", T.StringType(), nullable=True),\n",
    "    T.StructField(\"DIVERTED\", T.DoubleType(), nullable=True),\n",
    "    T.StructField(\"CRS_ELAPSED_TIME\", T.DoubleType(), nullable=True),\n",
    "    T.StructField(\"ACTUAL_ELAPSED_TIME\", T.DoubleType(), nullable=True),\n",
    "    T.StructField(\"AIR_TIME\", T.DoubleType(), nullable=True),\n",
    "    T.StructField(\"DISTANCE\", T.DoubleType(), nullable=True),\n",
    "    T.StructField(\"CARRIER_DELAY\", T.DoubleType(), nullable=True),\n",
    "    T.StructField(\"WEATHER_DELAY\", T.DoubleType(), nullable=True),\n",
    "    T.StructField(\"NAS_DELAY\", T.DoubleType(), nullable=True),\n",
    "    T.StructField(\"SECURITY_DELAY\", T.DoubleType(), nullable=True),\n",
    "    T.StructField(\"LATE_AIRCRAFT_DELAY\", T.DoubleType(), nullable=True),\n",
    "    T.StructField(\"Unnamed: 27\", T.StringType(), nullable=True)\n",
    "])"
   ]
  },
  {
   "cell_type": "code",
   "execution_count": 5,
   "metadata": {},
   "outputs": [],
   "source": [
    "df = spark.read.schema(schema).format(\"csv\").option(\"header\", \"true\").load(file_paths)"
   ]
  },
  {
   "cell_type": "markdown",
   "metadata": {},
   "source": [
    "### Get an overview of data"
   ]
  },
  {
   "cell_type": "code",
   "execution_count": 6,
   "metadata": {},
   "outputs": [
    {
     "name": "stdout",
     "output_type": "stream",
     "text": [
      "+-------------------+----------+-----------------+------+----+------------+--------+---------+--------+----------+---------+-------+------------+--------+---------+---------+-----------------+--------+----------------+-------------------+--------+--------+-------------+-------------+---------+--------------+-------------------+-----------+\n",
      "|            FL_DATE|OP_CARRIER|OP_CARRIER_FL_NUM|ORIGIN|DEST|CRS_DEP_TIME|DEP_TIME|DEP_DELAY|TAXI_OUT|WHEELS_OFF|WHEELS_ON|TAXI_IN|CRS_ARR_TIME|ARR_TIME|ARR_DELAY|CANCELLED|CANCELLATION_CODE|DIVERTED|CRS_ELAPSED_TIME|ACTUAL_ELAPSED_TIME|AIR_TIME|DISTANCE|CARRIER_DELAY|WEATHER_DELAY|NAS_DELAY|SECURITY_DELAY|LATE_AIRCRAFT_DELAY|Unnamed: 27|\n",
      "+-------------------+----------+-----------------+------+----+------------+--------+---------+--------+----------+---------+-------+------------+--------+---------+---------+-----------------+--------+----------------+-------------------+--------+--------+-------------+-------------+---------+--------------+-------------------+-----------+\n",
      "|2009-01-01 00:00:00|        XE|             1204|   DCA| EWR|      1100.0|  1058.0|     -2.0|    18.0|    1116.0|   1158.0|    8.0|      1202.0|  1206.0|      4.0|      0.0|             NULL|     0.0|            62.0|               68.0|    42.0|   199.0|         NULL|         NULL|     NULL|          NULL|               NULL|       NULL|\n",
      "|2009-01-01 00:00:00|        XE|             1206|   EWR| IAD|      1510.0|  1509.0|     -1.0|    28.0|    1537.0|   1620.0|    4.0|      1632.0|  1624.0|     -8.0|      0.0|             NULL|     0.0|            82.0|               75.0|    43.0|   213.0|         NULL|         NULL|     NULL|          NULL|               NULL|       NULL|\n",
      "|2009-01-01 00:00:00|        XE|             1207|   EWR| DCA|      1100.0|  1059.0|     -1.0|    20.0|    1119.0|   1155.0|    6.0|      1210.0|  1201.0|     -9.0|      0.0|             NULL|     0.0|            70.0|               62.0|    36.0|   199.0|         NULL|         NULL|     NULL|          NULL|               NULL|       NULL|\n",
      "|2009-01-01 00:00:00|        XE|             1208|   DCA| EWR|      1240.0|  1249.0|      9.0|    10.0|    1259.0|   1336.0|    9.0|      1357.0|  1345.0|    -12.0|      0.0|             NULL|     0.0|            77.0|               56.0|    37.0|   199.0|         NULL|         NULL|     NULL|          NULL|               NULL|       NULL|\n",
      "|2009-01-01 00:00:00|        XE|             1209|   IAD| EWR|      1715.0|  1705.0|    -10.0|    24.0|    1729.0|   1809.0|   13.0|      1900.0|  1822.0|    -38.0|      0.0|             NULL|     0.0|           105.0|               77.0|    40.0|   213.0|         NULL|         NULL|     NULL|          NULL|               NULL|       NULL|\n",
      "+-------------------+----------+-----------------+------+----+------------+--------+---------+--------+----------+---------+-------+------------+--------+---------+---------+-----------------+--------+----------------+-------------------+--------+--------+-------------+-------------+---------+--------------+-------------------+-----------+\n",
      "only showing top 5 rows\n",
      "\n"
     ]
    }
   ],
   "source": [
    "df.show(5)"
   ]
  },
  {
   "cell_type": "code",
   "execution_count": 7,
   "metadata": {},
   "outputs": [
    {
     "data": {
      "text/plain": [
       "['FL_DATE',\n",
       " 'OP_CARRIER',\n",
       " 'OP_CARRIER_FL_NUM',\n",
       " 'ORIGIN',\n",
       " 'DEST',\n",
       " 'CRS_DEP_TIME',\n",
       " 'DEP_TIME',\n",
       " 'DEP_DELAY',\n",
       " 'TAXI_OUT',\n",
       " 'WHEELS_OFF',\n",
       " 'WHEELS_ON',\n",
       " 'TAXI_IN',\n",
       " 'CRS_ARR_TIME',\n",
       " 'ARR_TIME',\n",
       " 'ARR_DELAY',\n",
       " 'CANCELLED',\n",
       " 'CANCELLATION_CODE',\n",
       " 'DIVERTED',\n",
       " 'CRS_ELAPSED_TIME',\n",
       " 'ACTUAL_ELAPSED_TIME',\n",
       " 'AIR_TIME',\n",
       " 'DISTANCE',\n",
       " 'CARRIER_DELAY',\n",
       " 'WEATHER_DELAY',\n",
       " 'NAS_DELAY',\n",
       " 'SECURITY_DELAY',\n",
       " 'LATE_AIRCRAFT_DELAY',\n",
       " 'Unnamed: 27']"
      ]
     },
     "execution_count": 7,
     "metadata": {},
     "output_type": "execute_result"
    }
   ],
   "source": [
    "df.columns"
   ]
  },
  {
   "cell_type": "code",
   "execution_count": 8,
   "metadata": {},
   "outputs": [
    {
     "name": "stdout",
     "output_type": "stream",
     "text": [
      "+-------+----------+------------------+--------+--------+------------------+------------------+------------------+------------------+------------------+-----------------+-----------------+------------------+-----------------+-----------------+--------------------+-----------------+--------------------+-----------------+-------------------+------------------+-----------------+------------------+------------------+------------------+-------------------+-------------------+-----------+\n",
      "|summary|OP_CARRIER| OP_CARRIER_FL_NUM|  ORIGIN|    DEST|      CRS_DEP_TIME|          DEP_TIME|         DEP_DELAY|          TAXI_OUT|        WHEELS_OFF|        WHEELS_ON|          TAXI_IN|      CRS_ARR_TIME|         ARR_TIME|        ARR_DELAY|           CANCELLED|CANCELLATION_CODE|            DIVERTED| CRS_ELAPSED_TIME|ACTUAL_ELAPSED_TIME|          AIR_TIME|         DISTANCE|     CARRIER_DELAY|     WEATHER_DELAY|         NAS_DELAY|     SECURITY_DELAY|LATE_AIRCRAFT_DELAY|Unnamed: 27|\n",
      "+-------+----------+------------------+--------+--------+------------------+------------------+------------------+------------------+------------------+-----------------+-----------------+------------------+-----------------+-----------------+--------------------+-----------------+--------------------+-----------------+-------------------+------------------+-----------------+------------------+------------------+------------------+-------------------+-------------------+-----------+\n",
      "|  count|  54343518|          54343518|54343518|54343518|          54343517|          53520112|          53520077|          53495447|          53495451|         53465748|         53465749|          54343516|         53465748|         53359207|            54343518|           856625|            54343518|         54343468|           53359206|          53359207|         54343518|          10038030|          10038030|          10038030|           10038030|           10038030|          0|\n",
      "|   mean|      NULL| 2259.452208633236|    NULL|    NULL|1326.8728105323032| 1333.046505171738| 8.922236061057983|15.803740980050135|1355.7814021794115|1475.295122028406|7.054804600231075|1496.3157491686773|1481.002465204452|4.654152731317765|0.015763149525947144|             NULL|0.002349829468162...|136.4016815415608| 132.39592485690287|109.54811388032809|784.9089179136323|17.600304741069714|2.5256806365392412|14.204061055804775|0.07650584825907075| 22.965512754992762|       NULL|\n",
      "| stddev|      NULL|1886.2786532015684|    NULL|    NULL| 472.7227033809711|485.18491665248405|35.992515012629646| 9.211736662611298|486.51768499853017|508.5082170533442|5.191672664292814|492.70749861836964| 511.998573013883|38.33422620552586| 0.12455790993936307|             NULL|0.048418052550380355|73.35619163856802|  72.78725953363406| 70.61868458170328|593.0466305983005| 46.96939634223715|18.978377946395508|28.719347745893973| 2.2611037408044043|   41.6891248703106|       NULL|\n",
      "|    min|        9E|                 0|     ABE|     ABE|               1.0|               1.0|            -251.0|               0.0|               1.0|              1.0|              0.0|               1.0|              1.0|           -411.0|                 0.0|                A|                 0.0|              1.0|               11.0|               0.0|             11.0|               0.0|               0.0|               0.0|                0.0|                0.0|       NULL|\n",
      "|    max|        YV|              9855|     YUM|     YUM|            2359.0|            2400.0|            2755.0|             458.0|            2400.0|           2400.0|            414.0|            2400.0|           2400.0|           2449.0|                 1.0|                D|                 1.0|           1865.0|              799.0|             723.0|           4983.0|            2439.0|            1934.0|            1605.0|              827.0|             1756.0|       NULL|\n",
      "+-------+----------+------------------+--------+--------+------------------+------------------+------------------+------------------+------------------+-----------------+-----------------+------------------+-----------------+-----------------+--------------------+-----------------+--------------------+-----------------+-------------------+------------------+-----------------+------------------+------------------+------------------+-------------------+-------------------+-----------+\n",
      "\n"
     ]
    }
   ],
   "source": [
    "df.describe().show()"
   ]
  },
  {
   "cell_type": "markdown",
   "metadata": {},
   "source": [
    "### Clean data"
   ]
  },
  {
   "cell_type": "code",
   "execution_count": 9,
   "metadata": {},
   "outputs": [],
   "source": [
    "# Remove null values from the cols used for classification and save df for analysis\n",
    "analysis_df = df.dropna(subset= [\n",
    "    'FL_DATE',\n",
    " 'OP_CARRIER',\n",
    " 'OP_CARRIER_FL_NUM',\n",
    " 'ORIGIN',\n",
    " 'DEST',\n",
    " 'CRS_DEP_TIME',\n",
    " 'CRS_ARR_TIME',\n",
    " 'CANCELLED',\n",
    " 'DIVERTED',\n",
    " 'CRS_ELAPSED_TIME',\n",
    " 'DISTANCE'])"
   ]
  },
  {
   "cell_type": "code",
   "execution_count": 20,
   "metadata": {},
   "outputs": [
    {
     "data": {
      "text/plain": [
       "54343467"
      ]
     },
     "execution_count": 20,
     "metadata": {},
     "output_type": "execute_result"
    }
   ],
   "source": [
    "analysis_df.count()"
   ]
  },
  {
   "cell_type": "code",
   "execution_count": 10,
   "metadata": {},
   "outputs": [],
   "source": [
    "# Drop the cols which indirectly indicate if a flight is cancelled or not (apart from the column CANCELLED)\n",
    "# Most of those cols contain null values, if the flight is cancelled\n",
    "\n",
    "classify_df = df.drop(\"Unnamed: 27\", \n",
    "                        \"CARRIER_DELAY\", \n",
    "                        \"WEATHER_DELAY\",\n",
    "                        \"NAS_DELAY\",\n",
    "                        \"SECURITY_DELAY\",\n",
    "                        \"LATE_AIRCRAFT_DELAY\",\n",
    "                        \"CANCELLATION_CODE\",\n",
    "                        \"DEP_TIME\",\n",
    "                        \"DEP_DELAY\",\n",
    "                        \"TAXI_OUT\",\n",
    "                        \"WHEELS_OFF\",\n",
    "                        \"WHEELS_ON\",\n",
    "                        \"TAXI_IN\",\n",
    "                        \"ARR_TIME\",\n",
    "                        \"ARR_DELAY\",\n",
    "                        \"ACTUAL_ELAPSED_TIME\", \n",
    "                        \"AIR_TIME\")"
   ]
  },
  {
   "cell_type": "code",
   "execution_count": 11,
   "metadata": {},
   "outputs": [],
   "source": [
    "# Convert timestamp column to numerical\n",
    "classify_df = classify_df.withColumn(\"FL_DATE\", F.unix_timestamp(\"FL_DATE\"))"
   ]
  },
  {
   "cell_type": "code",
   "execution_count": 12,
   "metadata": {},
   "outputs": [
    {
     "data": {
      "text/plain": [
       "['FL_DATE',\n",
       " 'OP_CARRIER',\n",
       " 'OP_CARRIER_FL_NUM',\n",
       " 'ORIGIN',\n",
       " 'DEST',\n",
       " 'CRS_DEP_TIME',\n",
       " 'CRS_ARR_TIME',\n",
       " 'CANCELLED',\n",
       " 'DIVERTED',\n",
       " 'CRS_ELAPSED_TIME',\n",
       " 'DISTANCE']"
      ]
     },
     "execution_count": 12,
     "metadata": {},
     "output_type": "execute_result"
    }
   ],
   "source": [
    "classify_df.columns"
   ]
  },
  {
   "cell_type": "code",
   "execution_count": 13,
   "metadata": {},
   "outputs": [
    {
     "name": "stdout",
     "output_type": "stream",
     "text": [
      "+----------+----------+-----------------+------+----+------------+------------+---------+--------+----------------+--------+\n",
      "|   FL_DATE|OP_CARRIER|OP_CARRIER_FL_NUM|ORIGIN|DEST|CRS_DEP_TIME|CRS_ARR_TIME|CANCELLED|DIVERTED|CRS_ELAPSED_TIME|DISTANCE|\n",
      "+----------+----------+-----------------+------+----+------------+------------+---------+--------+----------------+--------+\n",
      "|1230760800|        XE|             1204|   DCA| EWR|      1100.0|      1202.0|      0.0|     0.0|            62.0|   199.0|\n",
      "|1230760800|        XE|             1206|   EWR| IAD|      1510.0|      1632.0|      0.0|     0.0|            82.0|   213.0|\n",
      "|1230760800|        XE|             1207|   EWR| DCA|      1100.0|      1210.0|      0.0|     0.0|            70.0|   199.0|\n",
      "|1230760800|        XE|             1208|   DCA| EWR|      1240.0|      1357.0|      0.0|     0.0|            77.0|   199.0|\n",
      "|1230760800|        XE|             1209|   IAD| EWR|      1715.0|      1900.0|      0.0|     0.0|           105.0|   213.0|\n",
      "+----------+----------+-----------------+------+----+------------+------------+---------+--------+----------------+--------+\n",
      "only showing top 5 rows\n",
      "\n"
     ]
    }
   ],
   "source": [
    "classify_df.show(5)"
   ]
  },
  {
   "cell_type": "code",
   "execution_count": 14,
   "metadata": {},
   "outputs": [
    {
     "data": {
      "text/plain": [
       "54343518"
      ]
     },
     "execution_count": 14,
     "metadata": {},
     "output_type": "execute_result"
    }
   ],
   "source": [
    "classify_df.count()"
   ]
  },
  {
   "cell_type": "code",
   "execution_count": 15,
   "metadata": {},
   "outputs": [
    {
     "name": "stdout",
     "output_type": "stream",
     "text": [
      "+----------+----------+-----------------+------+----+------------+------------+---------+--------+----------------+--------+\n",
      "|   FL_DATE|OP_CARRIER|OP_CARRIER_FL_NUM|ORIGIN|DEST|CRS_DEP_TIME|CRS_ARR_TIME|CANCELLED|DIVERTED|CRS_ELAPSED_TIME|DISTANCE|\n",
      "+----------+----------+-----------------+------+----+------------+------------+---------+--------+----------------+--------+\n",
      "|1230760800|        OO|             4810|   FAT| SLC|       630.0|       910.0|      1.0|     0.0|           100.0|   501.0|\n",
      "|1230760800|        OO|             5748|   LAX| CLD|      1838.0|      1919.0|      1.0|     0.0|            41.0|    86.0|\n",
      "|1230760800|        OO|             5750|   CLD| LAX|      1715.0|      1758.0|      1.0|     0.0|            43.0|    86.0|\n",
      "|1230760800|        OO|             7782|   SUN| SLC|       938.0|      1050.0|      1.0|     0.0|            72.0|   223.0|\n",
      "|1230760800|        UA|              405|   DEN| SNA|      1433.0|      1600.0|      1.0|     0.0|           147.0|   846.0|\n",
      "+----------+----------+-----------------+------+----+------------+------------+---------+--------+----------------+--------+\n",
      "only showing top 5 rows\n",
      "\n"
     ]
    }
   ],
   "source": [
    "# Take a subset: either balanced (with subsampling) or unbalanced\n",
    "# we take a subset, because of memory limitations\n",
    "\n",
    "# select subsample of positive samples - 10%\n",
    "pos_df = classify_df.filter(F.col('CANCELLED').isin(1)).sample(fraction=0.1)\n",
    "# select an equal amount of negative samples (number of neg samples == number of pos samples)\n",
    "neg_df = classify_df.filter(F.col('CANCELLED').isin(0)).orderBy(F.rand()).limit(pos_df.count())\n",
    "\n",
    "\n",
    "# Combine pos_df and neg_df - 171146 rows\n",
    "classify_df = pos_df.union(neg_df).sample(fraction=1.0).cache()\n",
    "classify_df.show(5)"
   ]
  },
  {
   "cell_type": "code",
   "execution_count": 16,
   "metadata": {},
   "outputs": [
    {
     "data": {
      "text/plain": [
       "85573"
      ]
     },
     "execution_count": 16,
     "metadata": {},
     "output_type": "execute_result"
    }
   ],
   "source": [
    "pos_df.count()"
   ]
  },
  {
   "cell_type": "code",
   "execution_count": 18,
   "metadata": {},
   "outputs": [
    {
     "data": {
      "text/plain": [
       "85573"
      ]
     },
     "execution_count": 18,
     "metadata": {},
     "output_type": "execute_result"
    }
   ],
   "source": [
    "neg_df.count()"
   ]
  },
  {
   "cell_type": "code",
   "execution_count": 19,
   "metadata": {},
   "outputs": [
    {
     "data": {
      "text/plain": [
       "171146"
      ]
     },
     "execution_count": 19,
     "metadata": {},
     "output_type": "execute_result"
    }
   ],
   "source": [
    "classify_df.count()"
   ]
  },
  {
   "cell_type": "markdown",
   "metadata": {},
   "source": [
    "### Analyze data - using analysis_df"
   ]
  },
  {
   "cell_type": "code",
   "execution_count": 21,
   "metadata": {},
   "outputs": [
    {
     "data": {
      "text/html": [
       "<div>\n",
       "<style scoped>\n",
       "    .dataframe tbody tr th:only-of-type {\n",
       "        vertical-align: middle;\n",
       "    }\n",
       "\n",
       "    .dataframe tbody tr th {\n",
       "        vertical-align: top;\n",
       "    }\n",
       "\n",
       "    .dataframe thead th {\n",
       "        text-align: right;\n",
       "    }\n",
       "</style>\n",
       "<table border=\"1\" class=\"dataframe\">\n",
       "  <thead>\n",
       "    <tr style=\"text-align: right;\">\n",
       "      <th></th>\n",
       "      <th>Carrier</th>\n",
       "      <th>count</th>\n",
       "    </tr>\n",
       "  </thead>\n",
       "  <tbody>\n",
       "    <tr>\n",
       "      <th>0</th>\n",
       "      <td>WN</td>\n",
       "      <td>10743987</td>\n",
       "    </tr>\n",
       "    <tr>\n",
       "      <th>1</th>\n",
       "      <td>DL</td>\n",
       "      <td>6892597</td>\n",
       "    </tr>\n",
       "    <tr>\n",
       "      <th>2</th>\n",
       "      <td>AA</td>\n",
       "      <td>5765343</td>\n",
       "    </tr>\n",
       "    <tr>\n",
       "      <th>3</th>\n",
       "      <td>OO</td>\n",
       "      <td>5488915</td>\n",
       "    </tr>\n",
       "    <tr>\n",
       "      <th>4</th>\n",
       "      <td>EV</td>\n",
       "      <td>4523555</td>\n",
       "    </tr>\n",
       "    <tr>\n",
       "      <th>5</th>\n",
       "      <td>UA</td>\n",
       "      <td>4205093</td>\n",
       "    </tr>\n",
       "    <tr>\n",
       "      <th>6</th>\n",
       "      <td>MQ</td>\n",
       "      <td>2920259</td>\n",
       "    </tr>\n",
       "    <tr>\n",
       "      <th>7</th>\n",
       "      <td>US</td>\n",
       "      <td>2657286</td>\n",
       "    </tr>\n",
       "    <tr>\n",
       "      <th>8</th>\n",
       "      <td>B6</td>\n",
       "      <td>2178956</td>\n",
       "    </tr>\n",
       "    <tr>\n",
       "      <th>9</th>\n",
       "      <td>AS</td>\n",
       "      <td>1414778</td>\n",
       "    </tr>\n",
       "  </tbody>\n",
       "</table>\n",
       "</div>"
      ],
      "text/plain": [
       "  Carrier     count\n",
       "0      WN  10743987\n",
       "1      DL   6892597\n",
       "2      AA   5765343\n",
       "3      OO   5488915\n",
       "4      EV   4523555\n",
       "5      UA   4205093\n",
       "6      MQ   2920259\n",
       "7      US   2657286\n",
       "8      B6   2178956\n",
       "9      AS   1414778"
      ]
     },
     "execution_count": 21,
     "metadata": {},
     "output_type": "execute_result"
    }
   ],
   "source": [
    "# Top 10 carriers that have the highest number of flights\n",
    "carriers_flight_count_df = analysis_df.groupBy(F.col('OP_CARRIER')).count().orderBy(F.col('count').desc())\n",
    "top_10 = carriers_flight_count_df.limit(10).toPandas()\n",
    "top_10 = top_10.rename(columns={'OP_CARRIER':'Carrier'})\n",
    "top_10"
   ]
  },
  {
   "cell_type": "code",
   "execution_count": 22,
   "metadata": {},
   "outputs": [
    {
     "data": {
      "text/html": [
       "\n",
       "<style>\n",
       "  #altair-viz-ee8dfb9c81114eb383d627c4e1833c3d.vega-embed {\n",
       "    width: 100%;\n",
       "    display: flex;\n",
       "  }\n",
       "\n",
       "  #altair-viz-ee8dfb9c81114eb383d627c4e1833c3d.vega-embed details,\n",
       "  #altair-viz-ee8dfb9c81114eb383d627c4e1833c3d.vega-embed details summary {\n",
       "    position: relative;\n",
       "  }\n",
       "</style>\n",
       "<div id=\"altair-viz-ee8dfb9c81114eb383d627c4e1833c3d\"></div>\n",
       "<script type=\"text/javascript\">\n",
       "  var VEGA_DEBUG = (typeof VEGA_DEBUG == \"undefined\") ? {} : VEGA_DEBUG;\n",
       "  (function(spec, embedOpt){\n",
       "    let outputDiv = document.currentScript.previousElementSibling;\n",
       "    if (outputDiv.id !== \"altair-viz-ee8dfb9c81114eb383d627c4e1833c3d\") {\n",
       "      outputDiv = document.getElementById(\"altair-viz-ee8dfb9c81114eb383d627c4e1833c3d\");\n",
       "    }\n",
       "    const paths = {\n",
       "      \"vega\": \"https://cdn.jsdelivr.net/npm/vega@5?noext\",\n",
       "      \"vega-lib\": \"https://cdn.jsdelivr.net/npm/vega-lib?noext\",\n",
       "      \"vega-lite\": \"https://cdn.jsdelivr.net/npm/vega-lite@5.17.0?noext\",\n",
       "      \"vega-embed\": \"https://cdn.jsdelivr.net/npm/vega-embed@6?noext\",\n",
       "    };\n",
       "\n",
       "    function maybeLoadScript(lib, version) {\n",
       "      var key = `${lib.replace(\"-\", \"\")}_version`;\n",
       "      return (VEGA_DEBUG[key] == version) ?\n",
       "        Promise.resolve(paths[lib]) :\n",
       "        new Promise(function(resolve, reject) {\n",
       "          var s = document.createElement('script');\n",
       "          document.getElementsByTagName(\"head\")[0].appendChild(s);\n",
       "          s.async = true;\n",
       "          s.onload = () => {\n",
       "            VEGA_DEBUG[key] = version;\n",
       "            return resolve(paths[lib]);\n",
       "          };\n",
       "          s.onerror = () => reject(`Error loading script: ${paths[lib]}`);\n",
       "          s.src = paths[lib];\n",
       "        });\n",
       "    }\n",
       "\n",
       "    function showError(err) {\n",
       "      outputDiv.innerHTML = `<div class=\"error\" style=\"color:red;\">${err}</div>`;\n",
       "      throw err;\n",
       "    }\n",
       "\n",
       "    function displayChart(vegaEmbed) {\n",
       "      vegaEmbed(outputDiv, spec, embedOpt)\n",
       "        .catch(err => showError(`Javascript Error: ${err.message}<br>This usually means there's a typo in your chart specification. See the javascript console for the full traceback.`));\n",
       "    }\n",
       "\n",
       "    if(typeof define === \"function\" && define.amd) {\n",
       "      requirejs.config({paths});\n",
       "      require([\"vega-embed\"], displayChart, err => showError(`Error loading script: ${err.message}`));\n",
       "    } else {\n",
       "      maybeLoadScript(\"vega\", \"5\")\n",
       "        .then(() => maybeLoadScript(\"vega-lite\", \"5.17.0\"))\n",
       "        .then(() => maybeLoadScript(\"vega-embed\", \"6\"))\n",
       "        .catch(showError)\n",
       "        .then(() => displayChart(vegaEmbed));\n",
       "    }\n",
       "  })({\"config\": {\"view\": {\"continuousWidth\": 300, \"continuousHeight\": 300, \"strokeWidth\": 0}, \"title\": {\"fontSize\": 18}}, \"layer\": [{\"mark\": {\"type\": \"arc\", \"innerRadius\": 75, \"outerRadius\": 260}, \"encoding\": {\"color\": {\"field\": \"Carrier\", \"legend\": null, \"scale\": {\"scheme\": \"category20\"}, \"type\": \"nominal\"}, \"theta\": {\"field\": \"count\", \"stack\": true, \"type\": \"quantitative\"}}, \"title\": \"Top 10 Carriers by number of flights\"}, {\"mark\": {\"type\": \"text\", \"radius\": 200, \"size\": 15}, \"encoding\": {\"color\": {\"value\": \"#000000\"}, \"text\": {\"field\": \"Carrier\", \"type\": \"nominal\"}, \"theta\": {\"field\": \"count\", \"stack\": true, \"type\": \"quantitative\"}}, \"title\": \"Top 10 Carriers by number of flights\"}, {\"mark\": {\"type\": \"text\", \"radius\": 300, \"size\": 15}, \"encoding\": {\"color\": {\"field\": \"Carrier\", \"legend\": null, \"scale\": {\"scheme\": \"category20\"}, \"type\": \"nominal\"}, \"text\": {\"field\": \"count\", \"type\": \"quantitative\"}, \"theta\": {\"field\": \"count\", \"stack\": true, \"type\": \"quantitative\"}}, \"title\": \"Top 10 Carriers by number of flights\"}], \"data\": {\"name\": \"data-9ba4ee20847b0d22d42ecff0aaf31792\"}, \"height\": 300, \"width\": 600, \"$schema\": \"https://vega.github.io/schema/vega-lite/v5.17.0.json\", \"datasets\": {\"data-9ba4ee20847b0d22d42ecff0aaf31792\": [{\"Carrier\": \"WN\", \"count\": 10743987}, {\"Carrier\": \"DL\", \"count\": 6892597}, {\"Carrier\": \"AA\", \"count\": 5765343}, {\"Carrier\": \"OO\", \"count\": 5488915}, {\"Carrier\": \"EV\", \"count\": 4523555}, {\"Carrier\": \"UA\", \"count\": 4205093}, {\"Carrier\": \"MQ\", \"count\": 2920259}, {\"Carrier\": \"US\", \"count\": 2657286}, {\"Carrier\": \"B6\", \"count\": 2178956}, {\"Carrier\": \"AS\", \"count\": 1414778}]}}, {\"mode\": \"vega-lite\"});\n",
       "</script>"
      ],
      "text/plain": [
       "alt.LayerChart(...)"
      ]
     },
     "execution_count": 22,
     "metadata": {},
     "output_type": "execute_result"
    }
   ],
   "source": [
    "import altair as alt\n",
    "\n",
    "# Visualisation of top 10 carriers that have the highest number of flights\n",
    "chart = alt.Chart(top_10).mark_arc(outerRadius=260, innerRadius=75).encode(\n",
    "    theta = alt.Theta(field=\"count\", type=\"quantitative\", stack=True),\n",
    "    color = alt.Color('Carrier:N', scale=alt.Scale(scheme='category20'), legend=None),\n",
    ").properties(\n",
    "    title='Top 10 Carriers by number of flights',\n",
    "    width=600,\n",
    "    height=300\n",
    ")\n",
    "\n",
    "pie = chart.mark_arc(outerRadius=350)\n",
    "value_text = pie.mark_text(radius=300, size=15).encode(text=alt.Text('count:Q'))\n",
    "\n",
    "pie2 = chart.mark_arc(outerRadius=250)\n",
    "text = pie2.mark_text(radius=200, size=15).encode(\n",
    "    text=alt.Text('Carrier:N'), \n",
    "    color=alt.value(\"#000000\")\n",
    ")\n",
    "\n",
    "(chart + text + value_text).configure_view(\n",
    "    strokeWidth=0\n",
    ").configure_title(\n",
    "    fontSize=18\n",
    ")"
   ]
  },
  {
   "cell_type": "code",
   "execution_count": 28,
   "metadata": {},
   "outputs": [
    {
     "data": {
      "text/html": [
       "<div>\n",
       "<style scoped>\n",
       "    .dataframe tbody tr th:only-of-type {\n",
       "        vertical-align: middle;\n",
       "    }\n",
       "\n",
       "    .dataframe tbody tr th {\n",
       "        vertical-align: top;\n",
       "    }\n",
       "\n",
       "    .dataframe thead th {\n",
       "        text-align: right;\n",
       "    }\n",
       "</style>\n",
       "<table border=\"1\" class=\"dataframe\">\n",
       "  <thead>\n",
       "    <tr style=\"text-align: right;\">\n",
       "      <th></th>\n",
       "      <th>CANCELLATION_CODE</th>\n",
       "      <th>count</th>\n",
       "    </tr>\n",
       "  </thead>\n",
       "  <tbody>\n",
       "    <tr>\n",
       "      <th>0</th>\n",
       "      <td>B</td>\n",
       "      <td>414449</td>\n",
       "    </tr>\n",
       "    <tr>\n",
       "      <th>1</th>\n",
       "      <td>C</td>\n",
       "      <td>155532</td>\n",
       "    </tr>\n",
       "    <tr>\n",
       "      <th>2</th>\n",
       "      <td>A</td>\n",
       "      <td>285946</td>\n",
       "    </tr>\n",
       "    <tr>\n",
       "      <th>3</th>\n",
       "      <td>D</td>\n",
       "      <td>664</td>\n",
       "    </tr>\n",
       "  </tbody>\n",
       "</table>\n",
       "</div>"
      ],
      "text/plain": [
       "  CANCELLATION_CODE   count\n",
       "0                 B  414449\n",
       "1                 C  155532\n",
       "2                 A  285946\n",
       "3                 D     664"
      ]
     },
     "execution_count": 28,
     "metadata": {},
     "output_type": "execute_result"
    }
   ],
   "source": [
    "# Count number of cancellations per code/reason\n",
    "carriers_flight_count_df = analysis_df.filter(F.col('CANCELLATION_CODE').isNotNull()).groupBy(F.col('CANCELLATION_CODE')).count()\n",
    "cancellation_reasons = carriers_flight_count_df.toPandas()\n",
    "cancellation_reasons"
   ]
  },
  {
   "cell_type": "code",
   "execution_count": 30,
   "metadata": {},
   "outputs": [
    {
     "name": "stderr",
     "output_type": "stream",
     "text": [
      "C:\\Users\\Pham Phuoc\\AppData\\Local\\Temp\\ipykernel_23816\\1043396036.py:2: SettingWithCopyWarning: \n",
      "A value is trying to be set on a copy of a slice from a DataFrame\n",
      "\n",
      "See the caveats in the documentation: https://pandas.pydata.org/pandas-docs/stable/user_guide/indexing.html#returning-a-view-versus-a-copy\n",
      "  cancellation_reasons['CANCELLATION_CODE'][cancellation_reasons['CANCELLATION_CODE'] == 'A'] = 'By carrier'\n",
      "C:\\Users\\Pham Phuoc\\AppData\\Local\\Temp\\ipykernel_23816\\1043396036.py:3: SettingWithCopyWarning: \n",
      "A value is trying to be set on a copy of a slice from a DataFrame\n",
      "\n",
      "See the caveats in the documentation: https://pandas.pydata.org/pandas-docs/stable/user_guide/indexing.html#returning-a-view-versus-a-copy\n",
      "  cancellation_reasons['CANCELLATION_CODE'][cancellation_reasons['CANCELLATION_CODE'] == 'B'] = 'Due to weather'\n",
      "C:\\Users\\Pham Phuoc\\AppData\\Local\\Temp\\ipykernel_23816\\1043396036.py:4: SettingWithCopyWarning: \n",
      "A value is trying to be set on a copy of a slice from a DataFrame\n",
      "\n",
      "See the caveats in the documentation: https://pandas.pydata.org/pandas-docs/stable/user_guide/indexing.html#returning-a-view-versus-a-copy\n",
      "  cancellation_reasons['CANCELLATION_CODE'][cancellation_reasons['CANCELLATION_CODE'] == 'C'] = 'By national air system'\n",
      "C:\\Users\\Pham Phuoc\\AppData\\Local\\Temp\\ipykernel_23816\\1043396036.py:5: SettingWithCopyWarning: \n",
      "A value is trying to be set on a copy of a slice from a DataFrame\n",
      "\n",
      "See the caveats in the documentation: https://pandas.pydata.org/pandas-docs/stable/user_guide/indexing.html#returning-a-view-versus-a-copy\n",
      "  cancellation_reasons['CANCELLATION_CODE'][cancellation_reasons['CANCELLATION_CODE'] == 'D'] = 'For security'\n"
     ]
    },
    {
     "data": {
      "text/html": [
       "<div>\n",
       "<style scoped>\n",
       "    .dataframe tbody tr th:only-of-type {\n",
       "        vertical-align: middle;\n",
       "    }\n",
       "\n",
       "    .dataframe tbody tr th {\n",
       "        vertical-align: top;\n",
       "    }\n",
       "\n",
       "    .dataframe thead th {\n",
       "        text-align: right;\n",
       "    }\n",
       "</style>\n",
       "<table border=\"1\" class=\"dataframe\">\n",
       "  <thead>\n",
       "    <tr style=\"text-align: right;\">\n",
       "      <th></th>\n",
       "      <th>Reason</th>\n",
       "      <th>count</th>\n",
       "    </tr>\n",
       "  </thead>\n",
       "  <tbody>\n",
       "    <tr>\n",
       "      <th>0</th>\n",
       "      <td>Due to weather</td>\n",
       "      <td>414449</td>\n",
       "    </tr>\n",
       "    <tr>\n",
       "      <th>1</th>\n",
       "      <td>By national air system</td>\n",
       "      <td>155532</td>\n",
       "    </tr>\n",
       "    <tr>\n",
       "      <th>2</th>\n",
       "      <td>By carrier</td>\n",
       "      <td>285946</td>\n",
       "    </tr>\n",
       "    <tr>\n",
       "      <th>3</th>\n",
       "      <td>For security</td>\n",
       "      <td>664</td>\n",
       "    </tr>\n",
       "  </tbody>\n",
       "</table>\n",
       "</div>"
      ],
      "text/plain": [
       "                   Reason   count\n",
       "0          Due to weather  414449\n",
       "1  By national air system  155532\n",
       "2              By carrier  285946\n",
       "3            For security     664"
      ]
     },
     "execution_count": 30,
     "metadata": {},
     "output_type": "execute_result"
    }
   ],
   "source": [
    "# Interpret cancellation codes to reasons\n",
    "cancellation_reasons['CANCELLATION_CODE'][cancellation_reasons['CANCELLATION_CODE'] == 'A'] = 'By carrier'\n",
    "cancellation_reasons['CANCELLATION_CODE'][cancellation_reasons['CANCELLATION_CODE'] == 'B'] = 'Due to weather'\n",
    "cancellation_reasons['CANCELLATION_CODE'][cancellation_reasons['CANCELLATION_CODE'] == 'C'] = 'By national air system'\n",
    "cancellation_reasons['CANCELLATION_CODE'][cancellation_reasons['CANCELLATION_CODE'] == 'D'] = 'For security'\n",
    "cancellation_reasons = cancellation_reasons.rename(columns={'CANCELLATION_CODE':'Reason'})\n",
    "cancellation_reasons"
   ]
  },
  {
   "cell_type": "code",
   "execution_count": 31,
   "metadata": {},
   "outputs": [
    {
     "data": {
      "text/html": [
       "\n",
       "<style>\n",
       "  #altair-viz-e37ae39c260a47628386879f5f914387.vega-embed {\n",
       "    width: 100%;\n",
       "    display: flex;\n",
       "  }\n",
       "\n",
       "  #altair-viz-e37ae39c260a47628386879f5f914387.vega-embed details,\n",
       "  #altair-viz-e37ae39c260a47628386879f5f914387.vega-embed details summary {\n",
       "    position: relative;\n",
       "  }\n",
       "</style>\n",
       "<div id=\"altair-viz-e37ae39c260a47628386879f5f914387\"></div>\n",
       "<script type=\"text/javascript\">\n",
       "  var VEGA_DEBUG = (typeof VEGA_DEBUG == \"undefined\") ? {} : VEGA_DEBUG;\n",
       "  (function(spec, embedOpt){\n",
       "    let outputDiv = document.currentScript.previousElementSibling;\n",
       "    if (outputDiv.id !== \"altair-viz-e37ae39c260a47628386879f5f914387\") {\n",
       "      outputDiv = document.getElementById(\"altair-viz-e37ae39c260a47628386879f5f914387\");\n",
       "    }\n",
       "    const paths = {\n",
       "      \"vega\": \"https://cdn.jsdelivr.net/npm/vega@5?noext\",\n",
       "      \"vega-lib\": \"https://cdn.jsdelivr.net/npm/vega-lib?noext\",\n",
       "      \"vega-lite\": \"https://cdn.jsdelivr.net/npm/vega-lite@5.17.0?noext\",\n",
       "      \"vega-embed\": \"https://cdn.jsdelivr.net/npm/vega-embed@6?noext\",\n",
       "    };\n",
       "\n",
       "    function maybeLoadScript(lib, version) {\n",
       "      var key = `${lib.replace(\"-\", \"\")}_version`;\n",
       "      return (VEGA_DEBUG[key] == version) ?\n",
       "        Promise.resolve(paths[lib]) :\n",
       "        new Promise(function(resolve, reject) {\n",
       "          var s = document.createElement('script');\n",
       "          document.getElementsByTagName(\"head\")[0].appendChild(s);\n",
       "          s.async = true;\n",
       "          s.onload = () => {\n",
       "            VEGA_DEBUG[key] = version;\n",
       "            return resolve(paths[lib]);\n",
       "          };\n",
       "          s.onerror = () => reject(`Error loading script: ${paths[lib]}`);\n",
       "          s.src = paths[lib];\n",
       "        });\n",
       "    }\n",
       "\n",
       "    function showError(err) {\n",
       "      outputDiv.innerHTML = `<div class=\"error\" style=\"color:red;\">${err}</div>`;\n",
       "      throw err;\n",
       "    }\n",
       "\n",
       "    function displayChart(vegaEmbed) {\n",
       "      vegaEmbed(outputDiv, spec, embedOpt)\n",
       "        .catch(err => showError(`Javascript Error: ${err.message}<br>This usually means there's a typo in your chart specification. See the javascript console for the full traceback.`));\n",
       "    }\n",
       "\n",
       "    if(typeof define === \"function\" && define.amd) {\n",
       "      requirejs.config({paths});\n",
       "      require([\"vega-embed\"], displayChart, err => showError(`Error loading script: ${err.message}`));\n",
       "    } else {\n",
       "      maybeLoadScript(\"vega\", \"5\")\n",
       "        .then(() => maybeLoadScript(\"vega-lite\", \"5.17.0\"))\n",
       "        .then(() => maybeLoadScript(\"vega-embed\", \"6\"))\n",
       "        .catch(showError)\n",
       "        .then(() => displayChart(vegaEmbed));\n",
       "    }\n",
       "  })({\"config\": {\"view\": {\"continuousWidth\": 300, \"continuousHeight\": 300, \"strokeWidth\": 0}, \"title\": {\"fontSize\": 18}}, \"layer\": [{\"mark\": {\"type\": \"arc\", \"innerRadius\": 50, \"outerRadius\": 180}, \"encoding\": {\"color\": {\"field\": \"Reason\", \"legend\": null, \"scale\": {\"scheme\": \"category20\"}, \"type\": \"nominal\"}, \"theta\": {\"field\": \"count\", \"stack\": true, \"type\": \"quantitative\"}}, \"title\": \"Reasons for flight cancellations\"}, {\"mark\": {\"type\": \"text\", \"radius\": 120, \"size\": 12}, \"encoding\": {\"color\": {\"value\": \"#000000\"}, \"text\": {\"field\": \"Reason\", \"type\": \"nominal\"}, \"theta\": {\"field\": \"count\", \"stack\": true, \"type\": \"quantitative\"}}, \"title\": \"Reasons for flight cancellations\"}, {\"mark\": {\"type\": \"text\", \"radius\": 220, \"size\": 15}, \"encoding\": {\"color\": {\"field\": \"Reason\", \"legend\": null, \"scale\": {\"scheme\": \"category20\"}, \"type\": \"nominal\"}, \"text\": {\"field\": \"count\", \"type\": \"quantitative\"}, \"theta\": {\"field\": \"count\", \"stack\": true, \"type\": \"quantitative\"}}, \"title\": \"Reasons for flight cancellations\"}], \"data\": {\"name\": \"data-a6440cd5beac897daecc5ed7292961d1\"}, \"height\": 300, \"width\": 600, \"$schema\": \"https://vega.github.io/schema/vega-lite/v5.17.0.json\", \"datasets\": {\"data-a6440cd5beac897daecc5ed7292961d1\": [{\"Reason\": \"Due to weather\", \"count\": 414449}, {\"Reason\": \"By national air system\", \"count\": 155532}, {\"Reason\": \"By carrier\", \"count\": 285946}, {\"Reason\": \"For security\", \"count\": 664}]}}, {\"mode\": \"vega-lite\"});\n",
       "</script>"
      ],
      "text/plain": [
       "alt.LayerChart(...)"
      ]
     },
     "execution_count": 31,
     "metadata": {},
     "output_type": "execute_result"
    }
   ],
   "source": [
    "# Visualisation of calcellation reasons\n",
    "chart = alt.Chart(cancellation_reasons).mark_arc(outerRadius=180, innerRadius=50).encode(\n",
    "    theta = alt.Theta(field=\"count\", type=\"quantitative\", stack=True),\n",
    "    color = alt.Color('Reason:N', scale=alt.Scale(scheme='category20'), legend=None),\n",
    ").properties(\n",
    "    title='Reasons for flight cancellations',\n",
    "    width=600,\n",
    "    height=300\n",
    ")\n",
    "\n",
    "pie = chart.mark_arc(outerRadius=250)\n",
    "value_text = pie.mark_text(radius=220, size=15).encode(text=alt.Text('count:Q'))\n",
    "\n",
    "pie2 = chart.mark_arc(outerRadius=150)\n",
    "text = pie2.mark_text(radius=120, size=12).encode(\n",
    "    text=alt.Text('Reason:N'), \n",
    "    color=alt.value(\"#000000\")\n",
    ")\n",
    "\n",
    "(chart + text + value_text).configure_view(\n",
    "    strokeWidth=0\n",
    ").configure_title(\n",
    "    fontSize=18\n",
    ")"
   ]
  },
  {
   "cell_type": "code",
   "execution_count": 47,
   "metadata": {},
   "outputs": [],
   "source": [
    "# Get flights that are delayed (have departure delay time > 0)\n",
    "departure_delay_df = analysis_df.filter(F.col('DEP_DELAY') > 0).select('OP_CARRIER' , 'OP_CARRIER_FL_NUM', 'DEP_DELAY').orderBy(F.col('DEP_DELAY').desc())"
   ]
  },
  {
   "cell_type": "code",
   "execution_count": 48,
   "metadata": {},
   "outputs": [
    {
     "data": {
      "text/html": [
       "<div>\n",
       "<style scoped>\n",
       "    .dataframe tbody tr th:only-of-type {\n",
       "        vertical-align: middle;\n",
       "    }\n",
       "\n",
       "    .dataframe tbody tr th {\n",
       "        vertical-align: top;\n",
       "    }\n",
       "\n",
       "    .dataframe thead th {\n",
       "        text-align: right;\n",
       "    }\n",
       "</style>\n",
       "<table border=\"1\" class=\"dataframe\">\n",
       "  <thead>\n",
       "    <tr style=\"text-align: right;\">\n",
       "      <th></th>\n",
       "      <th>OP_CARRIER</th>\n",
       "      <th>OP_CARRIER_FL_NUM</th>\n",
       "      <th>DEP_DELAY</th>\n",
       "    </tr>\n",
       "  </thead>\n",
       "  <tbody>\n",
       "    <tr>\n",
       "      <th>0</th>\n",
       "      <td>AA</td>\n",
       "      <td>611</td>\n",
       "      <td>2755.0</td>\n",
       "    </tr>\n",
       "    <tr>\n",
       "      <th>1</th>\n",
       "      <td>NW</td>\n",
       "      <td>598</td>\n",
       "      <td>2445.0</td>\n",
       "    </tr>\n",
       "    <tr>\n",
       "      <th>2</th>\n",
       "      <td>AA</td>\n",
       "      <td>1389</td>\n",
       "      <td>2402.0</td>\n",
       "    </tr>\n",
       "    <tr>\n",
       "      <th>3</th>\n",
       "      <td>AA</td>\n",
       "      <td>239</td>\n",
       "      <td>2208.0</td>\n",
       "    </tr>\n",
       "    <tr>\n",
       "      <th>4</th>\n",
       "      <td>AA</td>\n",
       "      <td>1164</td>\n",
       "      <td>2149.0</td>\n",
       "    </tr>\n",
       "    <tr>\n",
       "      <th>5</th>\n",
       "      <td>AA</td>\n",
       "      <td>1164</td>\n",
       "      <td>2040.0</td>\n",
       "    </tr>\n",
       "    <tr>\n",
       "      <th>6</th>\n",
       "      <td>AA</td>\n",
       "      <td>1242</td>\n",
       "      <td>2032.0</td>\n",
       "    </tr>\n",
       "    <tr>\n",
       "      <th>7</th>\n",
       "      <td>AA</td>\n",
       "      <td>1322</td>\n",
       "      <td>1988.0</td>\n",
       "    </tr>\n",
       "    <tr>\n",
       "      <th>8</th>\n",
       "      <td>AA</td>\n",
       "      <td>1202</td>\n",
       "      <td>1975.0</td>\n",
       "    </tr>\n",
       "    <tr>\n",
       "      <th>9</th>\n",
       "      <td>AA</td>\n",
       "      <td>2604</td>\n",
       "      <td>1970.0</td>\n",
       "    </tr>\n",
       "  </tbody>\n",
       "</table>\n",
       "</div>"
      ],
      "text/plain": [
       "  OP_CARRIER  OP_CARRIER_FL_NUM  DEP_DELAY\n",
       "0         AA                611     2755.0\n",
       "1         NW                598     2445.0\n",
       "2         AA               1389     2402.0\n",
       "3         AA                239     2208.0\n",
       "4         AA               1164     2149.0\n",
       "5         AA               1164     2040.0\n",
       "6         AA               1242     2032.0\n",
       "7         AA               1322     1988.0\n",
       "8         AA               1202     1975.0\n",
       "9         AA               2604     1970.0"
      ]
     },
     "execution_count": 48,
     "metadata": {},
     "output_type": "execute_result"
    }
   ],
   "source": [
    "# Top 10 flights with longest departure delay time (in minutes)\n",
    "top_10_delay_flights = departure_delay_df.limit(10).toPandas()\n",
    "top_10_delay_flights"
   ]
  },
  {
   "cell_type": "code",
   "execution_count": 49,
   "metadata": {},
   "outputs": [
    {
     "data": {
      "text/html": [
       "<div>\n",
       "<style scoped>\n",
       "    .dataframe tbody tr th:only-of-type {\n",
       "        vertical-align: middle;\n",
       "    }\n",
       "\n",
       "    .dataframe tbody tr th {\n",
       "        vertical-align: top;\n",
       "    }\n",
       "\n",
       "    .dataframe thead th {\n",
       "        text-align: right;\n",
       "    }\n",
       "</style>\n",
       "<table border=\"1\" class=\"dataframe\">\n",
       "  <thead>\n",
       "    <tr style=\"text-align: right;\">\n",
       "      <th></th>\n",
       "      <th>Carrier</th>\n",
       "      <th>count</th>\n",
       "    </tr>\n",
       "  </thead>\n",
       "  <tbody>\n",
       "    <tr>\n",
       "      <th>0</th>\n",
       "      <td>WN</td>\n",
       "      <td>5417483</td>\n",
       "    </tr>\n",
       "    <tr>\n",
       "      <th>1</th>\n",
       "      <td>DL</td>\n",
       "      <td>2212883</td>\n",
       "    </tr>\n",
       "    <tr>\n",
       "      <th>2</th>\n",
       "      <td>AA</td>\n",
       "      <td>2066426</td>\n",
       "    </tr>\n",
       "    <tr>\n",
       "      <th>3</th>\n",
       "      <td>UA</td>\n",
       "      <td>1723634</td>\n",
       "    </tr>\n",
       "    <tr>\n",
       "      <th>4</th>\n",
       "      <td>OO</td>\n",
       "      <td>1613490</td>\n",
       "    </tr>\n",
       "    <tr>\n",
       "      <th>5</th>\n",
       "      <td>EV</td>\n",
       "      <td>1511385</td>\n",
       "    </tr>\n",
       "    <tr>\n",
       "      <th>6</th>\n",
       "      <td>MQ</td>\n",
       "      <td>957968</td>\n",
       "    </tr>\n",
       "    <tr>\n",
       "      <th>7</th>\n",
       "      <td>B6</td>\n",
       "      <td>814978</td>\n",
       "    </tr>\n",
       "    <tr>\n",
       "      <th>8</th>\n",
       "      <td>US</td>\n",
       "      <td>754703</td>\n",
       "    </tr>\n",
       "    <tr>\n",
       "      <th>9</th>\n",
       "      <td>FL</td>\n",
       "      <td>376721</td>\n",
       "    </tr>\n",
       "  </tbody>\n",
       "</table>\n",
       "</div>"
      ],
      "text/plain": [
       "  Carrier    count\n",
       "0      WN  5417483\n",
       "1      DL  2212883\n",
       "2      AA  2066426\n",
       "3      UA  1723634\n",
       "4      OO  1613490\n",
       "5      EV  1511385\n",
       "6      MQ   957968\n",
       "7      B6   814978\n",
       "8      US   754703\n",
       "9      FL   376721"
      ]
     },
     "execution_count": 49,
     "metadata": {},
     "output_type": "execute_result"
    }
   ],
   "source": [
    "# Top 10 carriers that have the highest number of delay flights \n",
    "top_10_delay_carriers = departure_delay_df.groupBy(F.col('OP_CARRIER')).count().orderBy(F.col('count').desc())\n",
    "top_10_delay_carriers = top_10_delay_carriers.limit(10).toPandas()\n",
    "top_10_delay_carriers = top_10_delay_carriers.rename(columns={'OP_CARRIER':'Carrier'})\n",
    "top_10_delay_carriers"
   ]
  },
  {
   "cell_type": "code",
   "execution_count": 50,
   "metadata": {},
   "outputs": [
    {
     "data": {
      "text/html": [
       "\n",
       "<style>\n",
       "  #altair-viz-93fdb207ea884b7e993761abd0f1259a.vega-embed {\n",
       "    width: 100%;\n",
       "    display: flex;\n",
       "  }\n",
       "\n",
       "  #altair-viz-93fdb207ea884b7e993761abd0f1259a.vega-embed details,\n",
       "  #altair-viz-93fdb207ea884b7e993761abd0f1259a.vega-embed details summary {\n",
       "    position: relative;\n",
       "  }\n",
       "</style>\n",
       "<div id=\"altair-viz-93fdb207ea884b7e993761abd0f1259a\"></div>\n",
       "<script type=\"text/javascript\">\n",
       "  var VEGA_DEBUG = (typeof VEGA_DEBUG == \"undefined\") ? {} : VEGA_DEBUG;\n",
       "  (function(spec, embedOpt){\n",
       "    let outputDiv = document.currentScript.previousElementSibling;\n",
       "    if (outputDiv.id !== \"altair-viz-93fdb207ea884b7e993761abd0f1259a\") {\n",
       "      outputDiv = document.getElementById(\"altair-viz-93fdb207ea884b7e993761abd0f1259a\");\n",
       "    }\n",
       "    const paths = {\n",
       "      \"vega\": \"https://cdn.jsdelivr.net/npm/vega@5?noext\",\n",
       "      \"vega-lib\": \"https://cdn.jsdelivr.net/npm/vega-lib?noext\",\n",
       "      \"vega-lite\": \"https://cdn.jsdelivr.net/npm/vega-lite@5.17.0?noext\",\n",
       "      \"vega-embed\": \"https://cdn.jsdelivr.net/npm/vega-embed@6?noext\",\n",
       "    };\n",
       "\n",
       "    function maybeLoadScript(lib, version) {\n",
       "      var key = `${lib.replace(\"-\", \"\")}_version`;\n",
       "      return (VEGA_DEBUG[key] == version) ?\n",
       "        Promise.resolve(paths[lib]) :\n",
       "        new Promise(function(resolve, reject) {\n",
       "          var s = document.createElement('script');\n",
       "          document.getElementsByTagName(\"head\")[0].appendChild(s);\n",
       "          s.async = true;\n",
       "          s.onload = () => {\n",
       "            VEGA_DEBUG[key] = version;\n",
       "            return resolve(paths[lib]);\n",
       "          };\n",
       "          s.onerror = () => reject(`Error loading script: ${paths[lib]}`);\n",
       "          s.src = paths[lib];\n",
       "        });\n",
       "    }\n",
       "\n",
       "    function showError(err) {\n",
       "      outputDiv.innerHTML = `<div class=\"error\" style=\"color:red;\">${err}</div>`;\n",
       "      throw err;\n",
       "    }\n",
       "\n",
       "    function displayChart(vegaEmbed) {\n",
       "      vegaEmbed(outputDiv, spec, embedOpt)\n",
       "        .catch(err => showError(`Javascript Error: ${err.message}<br>This usually means there's a typo in your chart specification. See the javascript console for the full traceback.`));\n",
       "    }\n",
       "\n",
       "    if(typeof define === \"function\" && define.amd) {\n",
       "      requirejs.config({paths});\n",
       "      require([\"vega-embed\"], displayChart, err => showError(`Error loading script: ${err.message}`));\n",
       "    } else {\n",
       "      maybeLoadScript(\"vega\", \"5\")\n",
       "        .then(() => maybeLoadScript(\"vega-lite\", \"5.17.0\"))\n",
       "        .then(() => maybeLoadScript(\"vega-embed\", \"6\"))\n",
       "        .catch(showError)\n",
       "        .then(() => displayChart(vegaEmbed));\n",
       "    }\n",
       "  })({\"config\": {\"view\": {\"continuousWidth\": 300, \"continuousHeight\": 300, \"strokeWidth\": 0}, \"title\": {\"fontSize\": 18}}, \"layer\": [{\"mark\": {\"type\": \"arc\", \"innerRadius\": 75, \"outerRadius\": 260}, \"encoding\": {\"color\": {\"field\": \"Carrier\", \"legend\": null, \"scale\": {\"scheme\": \"category20\"}, \"type\": \"nominal\"}, \"theta\": {\"field\": \"count\", \"stack\": true, \"type\": \"quantitative\"}}, \"title\": \"Top 10 Carriers by number of delay flights\"}, {\"mark\": {\"type\": \"text\", \"radius\": 200, \"size\": 15}, \"encoding\": {\"color\": {\"value\": \"#000000\"}, \"text\": {\"field\": \"Carrier\", \"type\": \"nominal\"}, \"theta\": {\"field\": \"count\", \"stack\": true, \"type\": \"quantitative\"}}, \"title\": \"Top 10 Carriers by number of delay flights\"}, {\"mark\": {\"type\": \"text\", \"radius\": 300, \"size\": 15}, \"encoding\": {\"color\": {\"field\": \"Carrier\", \"legend\": null, \"scale\": {\"scheme\": \"category20\"}, \"type\": \"nominal\"}, \"text\": {\"field\": \"count\", \"type\": \"quantitative\"}, \"theta\": {\"field\": \"count\", \"stack\": true, \"type\": \"quantitative\"}}, \"title\": \"Top 10 Carriers by number of delay flights\"}], \"data\": {\"name\": \"data-ccdb20e27dcb4d213d6db1b31585f087\"}, \"height\": 300, \"width\": 600, \"$schema\": \"https://vega.github.io/schema/vega-lite/v5.17.0.json\", \"datasets\": {\"data-ccdb20e27dcb4d213d6db1b31585f087\": [{\"Carrier\": \"WN\", \"count\": 5417483}, {\"Carrier\": \"DL\", \"count\": 2212883}, {\"Carrier\": \"AA\", \"count\": 2066426}, {\"Carrier\": \"UA\", \"count\": 1723634}, {\"Carrier\": \"OO\", \"count\": 1613490}, {\"Carrier\": \"EV\", \"count\": 1511385}, {\"Carrier\": \"MQ\", \"count\": 957968}, {\"Carrier\": \"B6\", \"count\": 814978}, {\"Carrier\": \"US\", \"count\": 754703}, {\"Carrier\": \"FL\", \"count\": 376721}]}}, {\"mode\": \"vega-lite\"});\n",
       "</script>"
      ],
      "text/plain": [
       "alt.LayerChart(...)"
      ]
     },
     "execution_count": 50,
     "metadata": {},
     "output_type": "execute_result"
    }
   ],
   "source": [
    "import altair as alt\n",
    "\n",
    "# Visualisation of top 10 carriers that have the highest number of delay flights \n",
    "chart = alt.Chart(top_10_delay_carriers).mark_arc(outerRadius=260, innerRadius=75).encode(\n",
    "    theta = alt.Theta(field=\"count\", type=\"quantitative\", stack=True),\n",
    "    color = alt.Color('Carrier:N', scale=alt.Scale(scheme='category20'), legend=None),\n",
    ").properties(\n",
    "    title='Top 10 Carriers by number of delay flights',\n",
    "    width=600,\n",
    "    height=300\n",
    ")\n",
    "\n",
    "pie = chart.mark_arc(outerRadius=350)\n",
    "value_text = pie.mark_text(radius=300, size=15).encode(text=alt.Text('count:Q'))\n",
    "\n",
    "pie2 = chart.mark_arc(outerRadius=250)\n",
    "text = pie2.mark_text(radius=200, size=15).encode(\n",
    "    text=alt.Text('Carrier:N'), \n",
    "    color=alt.value(\"#000000\")\n",
    ")\n",
    "\n",
    "(chart + text + value_text).configure_view(\n",
    "    strokeWidth=0\n",
    ").configure_title(\n",
    "    fontSize=18\n",
    ")"
   ]
  },
  {
   "cell_type": "markdown",
   "metadata": {},
   "source": [
    "### Preprocess data for training models"
   ]
  },
  {
   "cell_type": "code",
   "execution_count": 51,
   "metadata": {},
   "outputs": [],
   "source": [
    "# Define StringIndexer: categorical (string) cols -> to column indices, \n",
    "# Each category gets a integer based on their frequency (start from 0)\n",
    "\n",
    "carrier_indexer = StringIndexer(inputCol=\"OP_CARRIER\", outputCol=\"OP_CARRIER_Index\")\n",
    "origin_indexer = StringIndexer(inputCol=\"ORIGIN\", outputCol=\"ORIGIN_Index\")\n",
    "dest_indexer = StringIndexer(inputCol=\"DEST\", outputCol=\"DEST_Index\")"
   ]
  },
  {
   "cell_type": "code",
   "execution_count": 52,
   "metadata": {},
   "outputs": [],
   "source": [
    "# Define onehotencoder for a index columns \n",
    "onehotencoder_carrier_vector = OneHotEncoder(inputCol=\"OP_CARRIER_Index\", outputCol=\"OP_CARRIER_vec\")\n",
    "onehotencoder_origin_vector = OneHotEncoder(inputCol=\"ORIGIN_Index\", outputCol=\"ORIGIN_vec\")\n",
    "onehotencoder_dest_vector = OneHotEncoder(inputCol=\"DEST_Index\", outputCol=\"DEST_vec\")"
   ]
  },
  {
   "cell_type": "code",
   "execution_count": 53,
   "metadata": {},
   "outputs": [],
   "source": [
    "# Pipelining the preprocessing stages defined above \n",
    "pipeline = Pipeline(stages=[carrier_indexer, origin_indexer, dest_indexer,\n",
    "                            onehotencoder_carrier_vector, onehotencoder_origin_vector,\n",
    "                            onehotencoder_dest_vector])\n",
    "\n",
    "transformed_df = pipeline.fit(classify_df).transform(classify_df)"
   ]
  },
  {
   "cell_type": "code",
   "execution_count": 57,
   "metadata": {},
   "outputs": [
    {
     "name": "stdout",
     "output_type": "stream",
     "text": [
      "+----------+----------+-----------------+------+----+------------+------------+---------+--------+----------------+--------+----------------+------------+----------+--------------+-----------------+-----------------+\n",
      "|   FL_DATE|OP_CARRIER|OP_CARRIER_FL_NUM|ORIGIN|DEST|CRS_DEP_TIME|CRS_ARR_TIME|CANCELLED|DIVERTED|CRS_ELAPSED_TIME|DISTANCE|OP_CARRIER_Index|ORIGIN_Index|DEST_Index|OP_CARRIER_vec|       ORIGIN_vec|         DEST_vec|\n",
      "+----------+----------+-----------------+------+----+------------+------------+---------+--------+----------------+--------+----------------+------------+----------+--------------+-----------------+-----------------+\n",
      "|1230760800|        OO|             4810|   FAT| SLC|       630.0|       910.0|      1.0|     0.0|           100.0|   501.0|             2.0|        99.0|      19.0|(20,[2],[1.0])| (343,[99],[1.0])| (339,[19],[1.0])|\n",
      "|1230760800|        OO|             5748|   LAX| CLD|      1838.0|      1919.0|      1.0|     0.0|            41.0|    86.0|             2.0|         4.0|     211.0|(20,[2],[1.0])|  (343,[4],[1.0])|(339,[211],[1.0])|\n",
      "|1230760800|        OO|             5750|   CLD| LAX|      1715.0|      1758.0|      1.0|     0.0|            43.0|    86.0|             2.0|       203.0|       4.0|(20,[2],[1.0])|(343,[203],[1.0])|  (339,[4],[1.0])|\n",
      "|1230760800|        OO|             7782|   SUN| SLC|       938.0|      1050.0|      1.0|     0.0|            72.0|   223.0|             2.0|       132.0|      19.0|(20,[2],[1.0])|(343,[132],[1.0])| (339,[19],[1.0])|\n",
      "|1230760800|        UA|              405|   DEN| SNA|      1433.0|      1600.0|      1.0|     0.0|           147.0|   846.0|             6.0|         3.0|      40.0|(20,[6],[1.0])|  (343,[3],[1.0])| (339,[40],[1.0])|\n",
      "+----------+----------+-----------------+------+----+------------+------------+---------+--------+----------------+--------+----------------+------------+----------+--------------+-----------------+-----------------+\n",
      "only showing top 5 rows\n",
      "\n"
     ]
    }
   ],
   "source": [
    "transformed_df.show(5)"
   ]
  },
  {
   "cell_type": "code",
   "execution_count": 54,
   "metadata": {},
   "outputs": [],
   "source": [
    "# Select columns that are combined to one feature column\n",
    "feature_columns = transformed_df.columns\n",
    "\n",
    "# Remove cols that whould not be in our feature cols (label col, intermediate preprocessing cols)\n",
    "for item in [\"CANCELLED\", \"ORIGIN\", \"DEST\", \"OP_CARRIER\", \"OP_CARRIER_Index\", \"ORIGIN_Index\", \"DEST_Index\"]:\n",
    "    feature_columns.remove(item)\n",
    "\n",
    "\n",
    "assembler = VectorAssembler(inputCols=feature_columns, outputCol=\"features\")\n",
    "\n",
    "# Build feature col\n",
    "assembled_df = assembler.transform(transformed_df)"
   ]
  },
  {
   "cell_type": "code",
   "execution_count": 55,
   "metadata": {},
   "outputs": [],
   "source": [
    "# Select only feature and label column\n",
    "final_classify_df = assembled_df.select(\"features\", F.col(\"CANCELLED\").alias(\"label\"))"
   ]
  },
  {
   "cell_type": "code",
   "execution_count": 56,
   "metadata": {},
   "outputs": [
    {
     "name": "stdout",
     "output_type": "stream",
     "text": [
      "root\n",
      " |-- features: vector (nullable = true)\n",
      " |-- label: double (nullable = true)\n",
      "\n"
     ]
    }
   ],
   "source": [
    "final_classify_df.printSchema()"
   ]
  },
  {
   "cell_type": "code",
   "execution_count": 58,
   "metadata": {},
   "outputs": [],
   "source": [
    "train, test = final_classify_df.randomSplit([.7, .3], seed=9) # 70, 30 split on balanced set or on subset of samples"
   ]
  },
  {
   "cell_type": "code",
   "execution_count": 59,
   "metadata": {},
   "outputs": [],
   "source": [
    "# caching data into memory - models run quicker\n",
    "train = train.repartition(32).cache()\n",
    "test = test.repartition(32).cache()"
   ]
  },
  {
   "cell_type": "markdown",
   "metadata": {},
   "source": [
    "### Train models"
   ]
  },
  {
   "cell_type": "code",
   "execution_count": 60,
   "metadata": {},
   "outputs": [],
   "source": [
    "# Define the models\n",
    "log_regress = LogisticRegression(labelCol = 'label', featuresCol = 'features')\n",
    "decision_tree = DecisionTreeClassifier(labelCol = 'label', featuresCol = 'features')\n",
    "rand_forest = RandomForestClassifier(labelCol = 'label', featuresCol = 'features')\n",
    "gbt = GBTClassifier(labelCol = 'label', featuresCol = 'features')"
   ]
  },
  {
   "cell_type": "code",
   "execution_count": null,
   "metadata": {},
   "outputs": [],
   "source": [
    "log_regress_model = log_regress.fit(train)"
   ]
  },
  {
   "cell_type": "code",
   "execution_count": 62,
   "metadata": {},
   "outputs": [],
   "source": [
    "decision_tree_model = decision_tree.fit(train)"
   ]
  },
  {
   "cell_type": "code",
   "execution_count": null,
   "metadata": {},
   "outputs": [],
   "source": [
    "rand_forest_model = rand_forest.fit(train)"
   ]
  },
  {
   "cell_type": "code",
   "execution_count": null,
   "metadata": {},
   "outputs": [],
   "source": [
    "gbt_model = gbt.fit(train)"
   ]
  }
 ],
 "metadata": {
  "kernelspec": {
   "display_name": "Python 3",
   "language": "python",
   "name": "python3"
  },
  "language_info": {
   "codemirror_mode": {
    "name": "ipython",
    "version": 3
   },
   "file_extension": ".py",
   "mimetype": "text/x-python",
   "name": "python",
   "nbconvert_exporter": "python",
   "pygments_lexer": "ipython3",
   "version": "3.11.5"
  }
 },
 "nbformat": 4,
 "nbformat_minor": 2
}

{
 "cells": [
  {
   "cell_type": "markdown",
   "metadata": {},
   "source": [
    "# Preprocessing"
   ]
  },
  {
   "cell_type": "code",
   "execution_count": 1,
   "metadata": {
    "ExecuteTime": {
     "end_time": "2024-04-08T07:36:37.766860Z",
     "start_time": "2024-04-08T07:36:35.981300Z"
    }
   },
   "outputs": [],
   "source": [
    "%matplotlib inline\n",
    "%config InlineBackend.figure_format = 'retina'\n",
    "from IPython.core.interactiveshell import InteractiveShell\n",
    "InteractiveShell.ast_node_interactivity = \"all\"\n",
    "import sys\n",
    "import datetime\n",
    "from pyspark.sql import SparkSession\n",
    "from pyspark import SparkFiles\n",
    "import pyspark.sql.functions as F\n",
    "import pyspark.sql.types as T \n",
    "from pyspark.ml.feature import OneHotEncoder, StringIndexer, VectorAssembler\n",
    "from pyspark.ml import Pipeline\n",
    "from pyspark.ml.classification import LogisticRegression, DecisionTreeClassifier, RandomForestClassifier, GBTClassifier\n",
    "from pyspark.ml.evaluation import BinaryClassificationEvaluator, MulticlassClassificationEvaluator"
   ]
  },
  {
   "cell_type": "code",
   "execution_count": 2,
   "metadata": {
    "ExecuteTime": {
     "end_time": "2024-04-08T07:36:44.042012Z",
     "start_time": "2024-04-08T07:36:37.769435Z"
    }
   },
   "outputs": [
    {
     "data": {
      "text/html": [
       "\n",
       "            <div>\n",
       "                <p><b>SparkSession - in-memory</b></p>\n",
       "                \n",
       "        <div>\n",
       "            <p><b>SparkContext</b></p>\n",
       "\n",
       "            <p><a href=\"http://10.129.8.29:4040\">Spark UI</a></p>\n",
       "\n",
       "            <dl>\n",
       "              <dt>Version</dt>\n",
       "                <dd><code>v2.4.0</code></dd>\n",
       "              <dt>Master</dt>\n",
       "                <dd><code>spark://10.131.7.106:7077</code></dd>\n",
       "              <dt>AppName</dt>\n",
       "                <dd><code>Preprocessing</code></dd>\n",
       "            </dl>\n",
       "        </div>\n",
       "        \n",
       "            </div>\n",
       "        "
      ],
      "text/plain": [
       "<pyspark.sql.session.SparkSession at 0x7f94c460d8d0>"
      ]
     },
     "execution_count": 2,
     "metadata": {},
     "output_type": "execute_result"
    }
   ],
   "source": [
    "# Create a Spark session now to access functionalities of Spark\n",
    "spark = (SparkSession.builder.appName('Preprocessing')\n",
    ".master(\"spark://10.131.7.106:7077\")\n",
    ".config(\"spark.driver.memory\", \"20G\")\n",
    ".config(\"spark.executor.cores\", \"2\")\n",
    ".config(\"spark.driver.cores\", \"2\")\n",
    ".config(\"spark.executor.pyspark.memory\", \"30G\")\n",
    ".config(\"spark.dynamicAllocation.enabled\", \"true\")\n",
    ".getOrCreate() \n",
    ")\n",
    "\n",
    "spark"
   ]
  },
  {
   "cell_type": "code",
   "execution_count": 3,
   "metadata": {
    "ExecuteTime": {
     "end_time": "2024-04-08T07:36:44.048273Z",
     "start_time": "2024-04-08T07:36:44.044121Z"
    }
   },
   "outputs": [
    {
     "data": {
      "text/plain": [
       "'/mnt/group-10-pvc'"
      ]
     },
     "execution_count": 3,
     "metadata": {},
     "output_type": "execute_result"
    }
   ],
   "source": [
    "pwd"
   ]
  },
  {
   "cell_type": "markdown",
   "metadata": {},
   "source": [
    "### Read data"
   ]
  },
  {
   "cell_type": "code",
   "execution_count": 4,
   "metadata": {
    "ExecuteTime": {
     "end_time": "2024-04-08T07:36:44.054336Z",
     "start_time": "2024-04-08T07:36:44.050549Z"
    }
   },
   "outputs": [
    {
     "name": "stdout",
     "output_type": "stream",
     "text": [
      "['/mnt/group-10-pvc/data/2009.csv', '/mnt/group-10-pvc/data/2010.csv', '/mnt/group-10-pvc/data/2011.csv', '/mnt/group-10-pvc/data/2012.csv', '/mnt/group-10-pvc/data/2013.csv', '/mnt/group-10-pvc/data/2014.csv', '/mnt/group-10-pvc/data/2015.csv', '/mnt/group-10-pvc/data/2016.csv', '/mnt/group-10-pvc/data/2017.csv']\n"
     ]
    }
   ],
   "source": [
    "file_names_range = list(range(2009, 2018))\n",
    "file_paths = [f'/mnt/group-10-pvc/data/{file}.csv' for file in file_names_range]\n",
    "print(file_paths)"
   ]
  },
  {
   "cell_type": "code",
   "execution_count": 5,
   "metadata": {
    "ExecuteTime": {
     "end_time": "2024-04-08T07:36:44.066900Z",
     "start_time": "2024-04-08T07:36:44.056453Z"
    }
   },
   "outputs": [],
   "source": [
    "schema = T.StructType([\n",
    "    T.StructField(\"FL_DATE\", T.TimestampType(), nullable=True),\n",
    "    T.StructField(\"OP_CARRIER\", T.StringType(), nullable=True),\n",
    "    T.StructField(\"OP_CARRIER_FL_NUM\", T.IntegerType(), nullable=True),\n",
    "    T.StructField(\"ORIGIN\", T.StringType(), nullable=True),\n",
    "    T.StructField(\"DEST\", T.StringType(), nullable=True),\n",
    "    T.StructField(\"CRS_DEP_TIME\", T.StringType(), nullable=True),\n",
    "    T.StructField(\"DEP_TIME\", T.StringType(), nullable=True),\n",
    "    T.StructField(\"DEP_DELAY\", T.DoubleType(), nullable=True),\n",
    "    T.StructField(\"TAXI_OUT\", T.DoubleType(), nullable=True),\n",
    "    T.StructField(\"WHEELS_OFF\", T.StringType(), nullable=True),\n",
    "    T.StructField(\"WHEELS_ON\", T.StringType(), nullable=True),\n",
    "    T.StructField(\"TAXI_IN\", T.DoubleType(), nullable=True),\n",
    "    T.StructField(\"CRS_ARR_TIME\", T.StringType(), nullable=True),\n",
    "    T.StructField(\"ARR_TIME\",T.StringType(), nullable=True),\n",
    "    T.StructField(\"ARR_DELAY\", T.DoubleType(), nullable=True),\n",
    "    T.StructField(\"CANCELLED\", T.DoubleType(), nullable=True),\n",
    "    T.StructField(\"CANCELLATION_CODE\", T.StringType(), nullable=True),\n",
    "    T.StructField(\"DIVERTED\", T.DoubleType(), nullable=True),\n",
    "    T.StructField(\"CRS_ELAPSED_TIME\", T.DoubleType(), nullable=True),\n",
    "    T.StructField(\"ACTUAL_ELAPSED_TIME\", T.DoubleType(), nullable=True),\n",
    "    T.StructField(\"AIR_TIME\", T.DoubleType(), nullable=True),\n",
    "    T.StructField(\"DISTANCE\", T.DoubleType(), nullable=True),\n",
    "    T.StructField(\"CARRIER_DELAY\", T.DoubleType(), nullable=True),\n",
    "    T.StructField(\"WEATHER_DELAY\", T.DoubleType(), nullable=True),\n",
    "    T.StructField(\"NAS_DELAY\", T.DoubleType(), nullable=True),\n",
    "    T.StructField(\"SECURITY_DELAY\", T.DoubleType(), nullable=True),\n",
    "    T.StructField(\"LATE_AIRCRAFT_DELAY\", T.DoubleType(), nullable=True),\n",
    "    T.StructField(\"Unnamed: 27\", T.StringType(), nullable=True)\n",
    "])"
   ]
  },
  {
   "cell_type": "code",
   "execution_count": 6,
   "metadata": {
    "ExecuteTime": {
     "end_time": "2024-04-08T07:36:46.551646Z",
     "start_time": "2024-04-08T07:36:44.068540Z"
    }
   },
   "outputs": [],
   "source": [
    "df = spark.read.schema(schema).format(\"csv\").option(\"header\", \"true\").load(file_paths)"
   ]
  },
  {
   "cell_type": "markdown",
   "metadata": {},
   "source": [
    "### Get an overview of data"
   ]
  },
  {
   "cell_type": "code",
   "execution_count": 7,
   "metadata": {
    "ExecuteTime": {
     "end_time": "2024-04-08T07:37:13.655432Z",
     "start_time": "2024-04-08T07:36:46.553873Z"
    }
   },
   "outputs": [
    {
     "name": "stdout",
     "output_type": "stream",
     "text": [
      "-RECORD 0----------------------------------\n",
      " FL_DATE             | 2009-01-07 00:00:00 \n",
      " OP_CARRIER          | UA                  \n",
      " OP_CARRIER_FL_NUM   | 307                 \n",
      " ORIGIN              | BWI                 \n",
      " DEST                | LAX                 \n",
      " CRS_DEP_TIME        | 1703                \n",
      " DEP_TIME            | 1724.0              \n",
      " DEP_DELAY           | 21.0                \n",
      " TAXI_OUT            | 10.0                \n",
      " WHEELS_OFF          | 1734.0              \n",
      " WHEELS_ON           | 1944.0              \n",
      " TAXI_IN             | 8.0                 \n",
      " CRS_ARR_TIME        | 2005                \n",
      " ARR_TIME            | 1952.0              \n",
      " ARR_DELAY           | -13.0               \n",
      " CANCELLED           | 0.0                 \n",
      " CANCELLATION_CODE   | null                \n",
      " DIVERTED            | 0.0                 \n",
      " CRS_ELAPSED_TIME    | 362.0               \n",
      " ACTUAL_ELAPSED_TIME | 328.0               \n",
      " AIR_TIME            | 310.0               \n",
      " DISTANCE            | 2329.0              \n",
      " CARRIER_DELAY       | null                \n",
      " WEATHER_DELAY       | null                \n",
      " NAS_DELAY           | null                \n",
      " SECURITY_DELAY      | null                \n",
      " LATE_AIRCRAFT_DELAY | null                \n",
      " Unnamed: 27         | null                \n",
      "-RECORD 1----------------------------------\n",
      " FL_DATE             | 2009-01-22 00:00:00 \n",
      " OP_CARRIER          | WN                  \n",
      " OP_CARRIER_FL_NUM   | 40                  \n",
      " ORIGIN              | HOU                 \n",
      " DEST                | DAL                 \n",
      " CRS_DEP_TIME        | 1600                \n",
      " DEP_TIME            | 1605.0              \n",
      " DEP_DELAY           | 5.0                 \n",
      " TAXI_OUT            | 6.0                 \n",
      " WHEELS_OFF          | 1611.0              \n",
      " WHEELS_ON           | 1657.0              \n",
      " TAXI_IN             | 2.0                 \n",
      " CRS_ARR_TIME        | 1700                \n",
      " ARR_TIME            | 1659.0              \n",
      " ARR_DELAY           | -1.0                \n",
      " CANCELLED           | 0.0                 \n",
      " CANCELLATION_CODE   | null                \n",
      " DIVERTED            | 0.0                 \n",
      " CRS_ELAPSED_TIME    | 60.0                \n",
      " ACTUAL_ELAPSED_TIME | 54.0                \n",
      " AIR_TIME            | 46.0                \n",
      " DISTANCE            | 239.0               \n",
      " CARRIER_DELAY       | null                \n",
      " WEATHER_DELAY       | null                \n",
      " NAS_DELAY           | null                \n",
      " SECURITY_DELAY      | null                \n",
      " LATE_AIRCRAFT_DELAY | null                \n",
      " Unnamed: 27         | null                \n",
      "-RECORD 2----------------------------------\n",
      " FL_DATE             | 2009-01-26 00:00:00 \n",
      " OP_CARRIER          | AA                  \n",
      " OP_CARRIER_FL_NUM   | 468                 \n",
      " ORIGIN              | ELP                 \n",
      " DEST                | DFW                 \n",
      " CRS_DEP_TIME        | 1535                \n",
      " DEP_TIME            | 1532.0              \n",
      " DEP_DELAY           | -3.0                \n",
      " TAXI_OUT            | 14.0                \n",
      " WHEELS_OFF          | 1546.0              \n",
      " WHEELS_ON           | 1759.0              \n",
      " TAXI_IN             | 11.0                \n",
      " CRS_ARR_TIME        | 1820                \n",
      " ARR_TIME            | 1810.0              \n",
      " ARR_DELAY           | -10.0               \n",
      " CANCELLED           | 0.0                 \n",
      " CANCELLATION_CODE   | null                \n",
      " DIVERTED            | 0.0                 \n",
      " CRS_ELAPSED_TIME    | 105.0               \n",
      " ACTUAL_ELAPSED_TIME | 98.0                \n",
      " AIR_TIME            | 73.0                \n",
      " DISTANCE            | 551.0               \n",
      " CARRIER_DELAY       | null                \n",
      " WEATHER_DELAY       | null                \n",
      " NAS_DELAY           | null                \n",
      " SECURITY_DELAY      | null                \n",
      " LATE_AIRCRAFT_DELAY | null                \n",
      " Unnamed: 27         | null                \n",
      "-RECORD 3----------------------------------\n",
      " FL_DATE             | 2009-01-29 00:00:00 \n",
      " OP_CARRIER          | UA                  \n",
      " OP_CARRIER_FL_NUM   | 1244                \n",
      " ORIGIN              | ORD                 \n",
      " DEST                | IAD                 \n",
      " CRS_DEP_TIME        | 2100                \n",
      " DEP_TIME            | 2057.0              \n",
      " DEP_DELAY           | -3.0                \n",
      " TAXI_OUT            | 11.0                \n",
      " WHEELS_OFF          | 2108.0              \n",
      " WHEELS_ON           | 2319.0              \n",
      " TAXI_IN             | 6.0                 \n",
      " CRS_ARR_TIME        | 2344                \n",
      " ARR_TIME            | 2325.0              \n",
      " ARR_DELAY           | -19.0               \n",
      " CANCELLED           | 0.0                 \n",
      " CANCELLATION_CODE   | null                \n",
      " DIVERTED            | 0.0                 \n",
      " CRS_ELAPSED_TIME    | 104.0               \n",
      " ACTUAL_ELAPSED_TIME | 88.0                \n",
      " AIR_TIME            | 71.0                \n",
      " DISTANCE            | 589.0               \n",
      " CARRIER_DELAY       | null                \n",
      " WEATHER_DELAY       | null                \n",
      " NAS_DELAY           | null                \n",
      " SECURITY_DELAY      | null                \n",
      " LATE_AIRCRAFT_DELAY | null                \n",
      " Unnamed: 27         | null                \n",
      "-RECORD 4----------------------------------\n",
      " FL_DATE             | 2009-02-23 00:00:00 \n",
      " OP_CARRIER          | OO                  \n",
      " OP_CARRIER_FL_NUM   | 2754                \n",
      " ORIGIN              | DSM                 \n",
      " DEST                | MKE                 \n",
      " CRS_DEP_TIME        | 1634                \n",
      " DEP_TIME            | 1623.0              \n",
      " DEP_DELAY           | -11.0               \n",
      " TAXI_OUT            | 15.0                \n",
      " WHEELS_OFF          | 1638.0              \n",
      " WHEELS_ON           | 1733.0              \n",
      " TAXI_IN             | 4.0                 \n",
      " CRS_ARR_TIME        | 1740                \n",
      " ARR_TIME            | 1737.0              \n",
      " ARR_DELAY           | -3.0                \n",
      " CANCELLED           | 0.0                 \n",
      " CANCELLATION_CODE   | null                \n",
      " DIVERTED            | 0.0                 \n",
      " CRS_ELAPSED_TIME    | 66.0                \n",
      " ACTUAL_ELAPSED_TIME | 74.0                \n",
      " AIR_TIME            | 55.0                \n",
      " DISTANCE            | 311.0               \n",
      " CARRIER_DELAY       | null                \n",
      " WEATHER_DELAY       | null                \n",
      " NAS_DELAY           | null                \n",
      " SECURITY_DELAY      | null                \n",
      " LATE_AIRCRAFT_DELAY | null                \n",
      " Unnamed: 27         | null                \n",
      "-RECORD 5----------------------------------\n",
      " FL_DATE             | 2009-02-27 00:00:00 \n",
      " OP_CARRIER          | DL                  \n",
      " OP_CARRIER_FL_NUM   | 1612                \n",
      " ORIGIN              | AUS                 \n",
      " DEST                | ATL                 \n",
      " CRS_DEP_TIME        | 545                 \n",
      " DEP_TIME            | 543.0               \n",
      " DEP_DELAY           | -2.0                \n",
      " TAXI_OUT            | 11.0                \n",
      " WHEELS_OFF          | 554.0               \n",
      " WHEELS_ON           | 900.0               \n",
      " TAXI_IN             | 22.0                \n",
      " CRS_ARR_TIME        | 852                 \n",
      " ARR_TIME            | 922.0               \n",
      " ARR_DELAY           | 30.0                \n",
      " CANCELLED           | 0.0                 \n",
      " CANCELLATION_CODE   | null                \n",
      " DIVERTED            | 0.0                 \n",
      " CRS_ELAPSED_TIME    | 127.0               \n",
      " ACTUAL_ELAPSED_TIME | 159.0               \n",
      " AIR_TIME            | 126.0               \n",
      " DISTANCE            | 813.0               \n",
      " CARRIER_DELAY       | 0.0                 \n",
      " WEATHER_DELAY       | 0.0                 \n",
      " NAS_DELAY           | 30.0                \n",
      " SECURITY_DELAY      | 0.0                 \n",
      " LATE_AIRCRAFT_DELAY | 0.0                 \n",
      " Unnamed: 27         | null                \n",
      "-RECORD 6----------------------------------\n",
      " FL_DATE             | 2009-03-11 00:00:00 \n",
      " OP_CARRIER          | UA                  \n",
      " OP_CARRIER_FL_NUM   | 369                 \n",
      " ORIGIN              | SAT                 \n",
      " DEST                | DEN                 \n",
      " CRS_DEP_TIME        | 843                 \n",
      " DEP_TIME            | 842.0               \n",
      " DEP_DELAY           | -1.0                \n",
      " TAXI_OUT            | 10.0                \n",
      " WHEELS_OFF          | 852.0               \n",
      " WHEELS_ON           | 933.0               \n",
      " TAXI_IN             | 8.0                 \n",
      " CRS_ARR_TIME        | 1001                \n",
      " ARR_TIME            | 941.0               \n",
      " ARR_DELAY           | -20.0               \n",
      " CANCELLED           | 0.0                 \n",
      " CANCELLATION_CODE   | null                \n",
      " DIVERTED            | 0.0                 \n",
      " CRS_ELAPSED_TIME    | 138.0               \n",
      " ACTUAL_ELAPSED_TIME | 119.0               \n",
      " AIR_TIME            | 101.0               \n",
      " DISTANCE            | 794.0               \n",
      " CARRIER_DELAY       | null                \n",
      " WEATHER_DELAY       | null                \n",
      " NAS_DELAY           | null                \n",
      " SECURITY_DELAY      | null                \n",
      " LATE_AIRCRAFT_DELAY | null                \n",
      " Unnamed: 27         | null                \n",
      "-RECORD 7----------------------------------\n",
      " FL_DATE             | 2009-03-20 00:00:00 \n",
      " OP_CARRIER          | YV                  \n",
      " OP_CARRIER_FL_NUM   | 7158                \n",
      " ORIGIN              | CLE                 \n",
      " DEST                | IAD                 \n",
      " CRS_DEP_TIME        | 607                 \n",
      " DEP_TIME            | 558.0               \n",
      " DEP_DELAY           | -9.0                \n",
      " TAXI_OUT            | 21.0                \n",
      " WHEELS_OFF          | 619.0               \n",
      " WHEELS_ON           | 710.0               \n",
      " TAXI_IN             | 7.0                 \n",
      " CRS_ARR_TIME        | 727                 \n",
      " ARR_TIME            | 717.0               \n",
      " ARR_DELAY           | -10.0               \n",
      " CANCELLED           | 0.0                 \n",
      " CANCELLATION_CODE   | null                \n",
      " DIVERTED            | 0.0                 \n",
      " CRS_ELAPSED_TIME    | 80.0                \n",
      " ACTUAL_ELAPSED_TIME | 79.0                \n",
      " AIR_TIME            | 51.0                \n",
      " DISTANCE            | 288.0               \n",
      " CARRIER_DELAY       | null                \n",
      " WEATHER_DELAY       | null                \n",
      " NAS_DELAY           | null                \n",
      " SECURITY_DELAY      | null                \n",
      " LATE_AIRCRAFT_DELAY | null                \n",
      " Unnamed: 27         | null                \n",
      "-RECORD 8----------------------------------\n",
      " FL_DATE             | 2009-03-21 00:00:00 \n",
      " OP_CARRIER          | MQ                  \n",
      " OP_CARRIER_FL_NUM   | 4168                \n",
      " ORIGIN              | XNA                 \n",
      " DEST                | ORD                 \n",
      " CRS_DEP_TIME        | 745                 \n",
      " DEP_TIME            | 746.0               \n",
      " DEP_DELAY           | 1.0                 \n",
      " TAXI_OUT            | 11.0                \n",
      " WHEELS_OFF          | 757.0               \n",
      " WHEELS_ON           | 915.0               \n",
      " TAXI_IN             | 7.0                 \n",
      " CRS_ARR_TIME        | 930                 \n",
      " ARR_TIME            | 922.0               \n",
      " ARR_DELAY           | -8.0                \n",
      " CANCELLED           | 0.0                 \n",
      " CANCELLATION_CODE   | null                \n",
      " DIVERTED            | 0.0                 \n",
      " CRS_ELAPSED_TIME    | 105.0               \n",
      " ACTUAL_ELAPSED_TIME | 96.0                \n",
      " AIR_TIME            | 78.0                \n",
      " DISTANCE            | 522.0               \n",
      " CARRIER_DELAY       | null                \n",
      " WEATHER_DELAY       | null                \n",
      " NAS_DELAY           | null                \n",
      " SECURITY_DELAY      | null                \n",
      " LATE_AIRCRAFT_DELAY | null                \n",
      " Unnamed: 27         | null                \n",
      "-RECORD 9----------------------------------\n",
      " FL_DATE             | 2009-04-07 00:00:00 \n",
      " OP_CARRIER          | FL                  \n",
      " OP_CARRIER_FL_NUM   | 182                 \n",
      " ORIGIN              | ATL                 \n",
      " DEST                | DCA                 \n",
      " CRS_DEP_TIME        | 2205                \n",
      " DEP_TIME            | 2205.0              \n",
      " DEP_DELAY           | 0.0                 \n",
      " TAXI_OUT            | 11.0                \n",
      " WHEELS_OFF          | 2216.0              \n",
      " WHEELS_ON           | 2332.0              \n",
      " TAXI_IN             | 6.0                 \n",
      " CRS_ARR_TIME        | 2348                \n",
      " ARR_TIME            | 2338.0              \n",
      " ARR_DELAY           | -10.0               \n",
      " CANCELLED           | 0.0                 \n",
      " CANCELLATION_CODE   | null                \n",
      " DIVERTED            | 0.0                 \n",
      " CRS_ELAPSED_TIME    | 103.0               \n",
      " ACTUAL_ELAPSED_TIME | 93.0                \n",
      " AIR_TIME            | 76.0                \n",
      " DISTANCE            | 547.0               \n",
      " CARRIER_DELAY       | null                \n",
      " WEATHER_DELAY       | null                \n",
      " NAS_DELAY           | null                \n",
      " SECURITY_DELAY      | null                \n",
      " LATE_AIRCRAFT_DELAY | null                \n",
      " Unnamed: 27         | null                \n",
      "only showing top 10 rows\n",
      "\n"
     ]
    }
   ],
   "source": [
    "df.sample(withReplacement=False, fraction = 0.00001).show(n=10, vertical = True)"
   ]
  },
  {
   "cell_type": "code",
   "execution_count": 8,
   "metadata": {
    "ExecuteTime": {
     "end_time": "2024-04-08T07:37:13.686394Z",
     "start_time": "2024-04-08T07:37:13.657497Z"
    }
   },
   "outputs": [
    {
     "data": {
      "text/plain": [
       "[('FL_DATE', 'timestamp'),\n",
       " ('OP_CARRIER', 'string'),\n",
       " ('OP_CARRIER_FL_NUM', 'int'),\n",
       " ('ORIGIN', 'string'),\n",
       " ('DEST', 'string'),\n",
       " ('CRS_DEP_TIME', 'string'),\n",
       " ('DEP_TIME', 'string'),\n",
       " ('DEP_DELAY', 'double'),\n",
       " ('TAXI_OUT', 'double'),\n",
       " ('WHEELS_OFF', 'string'),\n",
       " ('WHEELS_ON', 'string'),\n",
       " ('TAXI_IN', 'double'),\n",
       " ('CRS_ARR_TIME', 'string'),\n",
       " ('ARR_TIME', 'string'),\n",
       " ('ARR_DELAY', 'double'),\n",
       " ('CANCELLED', 'double'),\n",
       " ('CANCELLATION_CODE', 'string'),\n",
       " ('DIVERTED', 'double'),\n",
       " ('CRS_ELAPSED_TIME', 'double'),\n",
       " ('ACTUAL_ELAPSED_TIME', 'double'),\n",
       " ('AIR_TIME', 'double'),\n",
       " ('DISTANCE', 'double'),\n",
       " ('CARRIER_DELAY', 'double'),\n",
       " ('WEATHER_DELAY', 'double'),\n",
       " ('NAS_DELAY', 'double'),\n",
       " ('SECURITY_DELAY', 'double'),\n",
       " ('LATE_AIRCRAFT_DELAY', 'double'),\n",
       " ('Unnamed: 27', 'string')]"
      ]
     },
     "execution_count": 8,
     "metadata": {},
     "output_type": "execute_result"
    }
   ],
   "source": [
    "df.dtypes"
   ]
  },
  {
   "cell_type": "code",
   "execution_count": 9,
   "metadata": {
    "ExecuteTime": {
     "end_time": "2024-04-08T07:37:13.740021Z",
     "start_time": "2024-04-08T07:37:13.688346Z"
    }
   },
   "outputs": [
    {
     "data": {
      "text/plain": [
       "['FL_DATE',\n",
       " 'OP_CARRIER',\n",
       " 'OP_CARRIER_FL_NUM',\n",
       " 'ORIGIN',\n",
       " 'DEST',\n",
       " 'CRS_DEP_TIME',\n",
       " 'DEP_TIME',\n",
       " 'DEP_DELAY',\n",
       " 'TAXI_OUT',\n",
       " 'WHEELS_OFF',\n",
       " 'WHEELS_ON',\n",
       " 'TAXI_IN',\n",
       " 'CRS_ARR_TIME',\n",
       " 'ARR_TIME',\n",
       " 'ARR_DELAY',\n",
       " 'CANCELLED',\n",
       " 'CANCELLATION_CODE',\n",
       " 'DIVERTED',\n",
       " 'CRS_ELAPSED_TIME',\n",
       " 'ACTUAL_ELAPSED_TIME',\n",
       " 'AIR_TIME',\n",
       " 'DISTANCE',\n",
       " 'CARRIER_DELAY',\n",
       " 'WEATHER_DELAY',\n",
       " 'NAS_DELAY',\n",
       " 'SECURITY_DELAY',\n",
       " 'LATE_AIRCRAFT_DELAY',\n",
       " 'Unnamed: 27']"
      ]
     },
     "execution_count": 9,
     "metadata": {},
     "output_type": "execute_result"
    }
   ],
   "source": [
    "df.columns"
   ]
  },
  {
   "cell_type": "code",
   "execution_count": 10,
   "metadata": {
    "ExecuteTime": {
     "end_time": "2024-04-08T07:40:08.652596Z",
     "start_time": "2024-04-08T07:37:13.742076Z"
    }
   },
   "outputs": [
    {
     "name": "stdout",
     "output_type": "stream",
     "text": [
      "-RECORD 0-----------------------------------\n",
      " summary             | count                \n",
      " OP_CARRIER          | 54343518             \n",
      " OP_CARRIER_FL_NUM   | 54343518             \n",
      " ORIGIN              | 54343518             \n",
      " DEST                | 54343518             \n",
      " CRS_DEP_TIME        | 54343517             \n",
      " DEP_TIME            | 53520112             \n",
      " DEP_DELAY           | 53520077             \n",
      " TAXI_OUT            | 53495447             \n",
      " WHEELS_OFF          | 53495451             \n",
      " WHEELS_ON           | 53465748             \n",
      " TAXI_IN             | 53465749             \n",
      " CRS_ARR_TIME        | 54343516             \n",
      " ARR_TIME            | 53465748             \n",
      " ARR_DELAY           | 53359207             \n",
      " CANCELLED           | 54343518             \n",
      " CANCELLATION_CODE   | 856625               \n",
      " DIVERTED            | 54343518             \n",
      " CRS_ELAPSED_TIME    | 54343468             \n",
      " ACTUAL_ELAPSED_TIME | 53359206             \n",
      " AIR_TIME            | 53359207             \n",
      " DISTANCE            | 54343518             \n",
      " CARRIER_DELAY       | 10038030             \n",
      " WEATHER_DELAY       | 10038030             \n",
      " NAS_DELAY           | 10038030             \n",
      " SECURITY_DELAY      | 10038030             \n",
      " LATE_AIRCRAFT_DELAY | 10038030             \n",
      " Unnamed: 27         | 0                    \n",
      "-RECORD 1-----------------------------------\n",
      " summary             | mean                 \n",
      " OP_CARRIER          | null                 \n",
      " OP_CARRIER_FL_NUM   | 2259.452208633236    \n",
      " ORIGIN              | null                 \n",
      " DEST                | null                 \n",
      " CRS_DEP_TIME        | 1326.8728105323032   \n",
      " DEP_TIME            | 1333.046505171738    \n",
      " DEP_DELAY           | 8.922236061057983    \n",
      " TAXI_OUT            | 15.803740980050135   \n",
      " WHEELS_OFF          | 1355.7814021794115   \n",
      " WHEELS_ON           | 1475.295122028406    \n",
      " TAXI_IN             | 7.054804600231075    \n",
      " CRS_ARR_TIME        | 1496.3157491686773   \n",
      " ARR_TIME            | 1481.002465204452    \n",
      " ARR_DELAY           | 4.654152731317765    \n",
      " CANCELLED           | 0.015763149525947144 \n",
      " CANCELLATION_CODE   | null                 \n",
      " DIVERTED            | 0.002349829468162... \n",
      " CRS_ELAPSED_TIME    | 136.4016815415608    \n",
      " ACTUAL_ELAPSED_TIME | 132.39592485690287   \n",
      " AIR_TIME            | 109.54811388032809   \n",
      " DISTANCE            | 784.9089179136323    \n",
      " CARRIER_DELAY       | 17.600304741069714   \n",
      " WEATHER_DELAY       | 2.5256806365392412   \n",
      " NAS_DELAY           | 14.204061055804775   \n",
      " SECURITY_DELAY      | 0.07650584825907075  \n",
      " LATE_AIRCRAFT_DELAY | 22.965512754992762   \n",
      " Unnamed: 27         | null                 \n",
      "-RECORD 2-----------------------------------\n",
      " summary             | stddev               \n",
      " OP_CARRIER          | null                 \n",
      " OP_CARRIER_FL_NUM   | 1886.2786532015682   \n",
      " ORIGIN              | null                 \n",
      " DEST                | null                 \n",
      " CRS_DEP_TIME        | 472.722703380971     \n",
      " DEP_TIME            | 485.1849166524839    \n",
      " DEP_DELAY           | 35.992515012629646   \n",
      " TAXI_OUT            | 9.2117366626113      \n",
      " WHEELS_OFF          | 486.51768499853017   \n",
      " WHEELS_ON           | 508.508217053344     \n",
      " TAXI_IN             | 5.191672664292814    \n",
      " CRS_ARR_TIME        | 492.70749861836947   \n",
      " ARR_TIME            | 511.998573013883     \n",
      " ARR_DELAY           | 38.334226205525844   \n",
      " CANCELLED           | 0.12455790993936304  \n",
      " CANCELLATION_CODE   | null                 \n",
      " DIVERTED            | 0.04841805255038034  \n",
      " CRS_ELAPSED_TIME    | 73.35619163856803    \n",
      " ACTUAL_ELAPSED_TIME | 72.78725953363409    \n",
      " AIR_TIME            | 70.61868458170326    \n",
      " DISTANCE            | 593.0466305983003    \n",
      " CARRIER_DELAY       | 46.96939634223716    \n",
      " WEATHER_DELAY       | 18.978377946395504   \n",
      " NAS_DELAY           | 28.71934774589398    \n",
      " SECURITY_DELAY      | 2.261103740804405    \n",
      " LATE_AIRCRAFT_DELAY | 41.6891248703106     \n",
      " Unnamed: 27         | null                 \n",
      "-RECORD 3-----------------------------------\n",
      " summary             | min                  \n",
      " OP_CARRIER          | 9E                   \n",
      " OP_CARRIER_FL_NUM   | 0                    \n",
      " ORIGIN              | ABE                  \n",
      " DEST                | ABE                  \n",
      " CRS_DEP_TIME        | 1                    \n",
      " DEP_TIME            | 1.0                  \n",
      " DEP_DELAY           | -251.0               \n",
      " TAXI_OUT            | 0.0                  \n",
      " WHEELS_OFF          | 1.0                  \n",
      " WHEELS_ON           | 1.0                  \n",
      " TAXI_IN             | 0.0                  \n",
      " CRS_ARR_TIME        | 1                    \n",
      " ARR_TIME            | 1.0                  \n",
      " ARR_DELAY           | -411.0               \n",
      " CANCELLED           | 0.0                  \n",
      " CANCELLATION_CODE   | A                    \n",
      " DIVERTED            | 0.0                  \n",
      " CRS_ELAPSED_TIME    | 1.0                  \n",
      " ACTUAL_ELAPSED_TIME | 11.0                 \n",
      " AIR_TIME            | 0.0                  \n",
      " DISTANCE            | 11.0                 \n",
      " CARRIER_DELAY       | 0.0                  \n",
      " WEATHER_DELAY       | 0.0                  \n",
      " NAS_DELAY           | 0.0                  \n",
      " SECURITY_DELAY      | 0.0                  \n",
      " LATE_AIRCRAFT_DELAY | 0.0                  \n",
      " Unnamed: 27         | null                 \n",
      "-RECORD 4-----------------------------------\n",
      " summary             | max                  \n",
      " OP_CARRIER          | YV                   \n",
      " OP_CARRIER_FL_NUM   | 9855                 \n",
      " ORIGIN              | YUM                  \n",
      " DEST                | YUM                  \n",
      " CRS_DEP_TIME        | 959.0                \n",
      " DEP_TIME            | 959.0                \n",
      " DEP_DELAY           | 2755.0               \n",
      " TAXI_OUT            | 458.0                \n",
      " WHEELS_OFF          | 959.0                \n",
      " WHEELS_ON           | 959.0                \n",
      " TAXI_IN             | 414.0                \n",
      " CRS_ARR_TIME        | 959.0                \n",
      " ARR_TIME            | 959.0                \n",
      " ARR_DELAY           | 2449.0               \n",
      " CANCELLED           | 1.0                  \n",
      " CANCELLATION_CODE   | D                    \n",
      " DIVERTED            | 1.0                  \n",
      " CRS_ELAPSED_TIME    | 1865.0               \n",
      " ACTUAL_ELAPSED_TIME | 799.0                \n",
      " AIR_TIME            | 723.0                \n",
      " DISTANCE            | 4983.0               \n",
      " CARRIER_DELAY       | 2439.0               \n",
      " WEATHER_DELAY       | 1934.0               \n",
      " NAS_DELAY           | 1605.0               \n",
      " SECURITY_DELAY      | 827.0                \n",
      " LATE_AIRCRAFT_DELAY | 1756.0               \n",
      " Unnamed: 27         | null                 \n",
      "\n"
     ]
    }
   ],
   "source": [
    "df.describe().show(vertical=True)"
   ]
  },
  {
   "cell_type": "markdown",
   "metadata": {},
   "source": [
    "### Clean data"
   ]
  },
  {
   "cell_type": "code",
   "execution_count": 12,
   "metadata": {
    "ExecuteTime": {
     "end_time": "2024-04-08T07:46:31.409652Z",
     "start_time": "2024-04-08T07:46:31.397765Z"
    }
   },
   "outputs": [
    {
     "ename": "SyntaxError",
     "evalue": "invalid syntax (<ipython-input-12-6b8bed8aa63d>, line 1)",
     "output_type": "error",
     "traceback": [
      "\u001b[0;36m  File \u001b[0;32m\"<ipython-input-12-6b8bed8aa63d>\"\u001b[0;36m, line \u001b[0;32m1\u001b[0m\n\u001b[0;31m    for sample_size, name in zip([0.01, 0.1, 1], [\"clean_0.01\",\"clean_0.1\",\"clean_all\"])\u001b[0m\n\u001b[0m                                                                                        ^\u001b[0m\n\u001b[0;31mSyntaxError\u001b[0m\u001b[0;31m:\u001b[0m invalid syntax\n"
     ]
    }
   ],
   "source": [
    "for sample_size, name in zip([0.01, 0.1, 1], [\"clean_0.01\",\"clean_0.1\",\"clean_all\"])\n",
    "    df = spark.read.schema(schema).format(\"csv\").option(\"header\", \"true\").load(file_paths)\n",
    "    if sampple_size < 1:\n",
    "        df = df.sample(0.1)\n",
    "    #drop useless columns\n",
    "    df = df.drop(\"Unnamed: 27\")\n",
    "\n",
    "    def string_to_timestamp(flight_timestamp, timestamp, departure_timestamp = None):\n",
    "        if timestamp is None:\n",
    "            return None\n",
    "        converted_hours_minutes = timestamp\n",
    "        converted_hours_minutes = converted_hours_minutes.replace(\".0\", \"\").zfill(4)\n",
    "        hour = int(converted_hours_minutes[:2]) % 24\n",
    "        minute = int(converted_hours_minutes[2:]) % 60\n",
    "        converted_timestamp = flight_timestamp\n",
    "        converted_timestamp = converted_timestamp.replace(hour=hour, minute=minute)\n",
    "\n",
    "        #attempt to fix flights that go past midnight, will produce wrong day on very rare occasions\n",
    "        if departure_timestamp:\n",
    "            if hour < departure_timestamp.hour:\n",
    "                converted_timestamp = converted_timestamp + datetime.timedelta(days=1)\n",
    "        return converted_timestamp\n",
    "\n",
    "    def explain_cancelation_code(code):\n",
    "        if code is None:\n",
    "            return None\n",
    "        return {\"A\" : 'By carrier', \"B\" : 'Due to weather', \"C\" : 'By national air system', \"D\" : 'For security'}[code]\n",
    "\n",
    "\n",
    "    string_to_timestamp_udf = F.udf(string_to_timestamp, T.TimestampType())  \n",
    "    explain_cancelation_code_udf = F.udf(explain_cancelation_code, T.StringType())\n",
    "\n",
    "\n",
    "\n",
    "    #convert time columns to actual timestamps\n",
    "    timestamp_columns_list = [\n",
    "     'WHEELS_OFF',\n",
    "     'WHEELS_ON',\n",
    "     'CRS_ARR_TIME',\n",
    "     'ARR_TIME',\n",
    "    ]\n",
    "    column_name = \"DEP_TIME\"\n",
    "    df = df.withColumn(column_name, string_to_timestamp_udf(F.col(\"FL_DATE\"), F.col(column_name)))\n",
    "    column_name = \"CRS_DEP_TIME\"\n",
    "    df = df.withColumn(column_name, string_to_timestamp_udf(F.col(\"FL_DATE\"), F.col(column_name)))\n",
    "    for column_name in timestamp_columns_list:\n",
    "        df = df.withColumn(column_name, string_to_timestamp_udf(F.col(\"FL_DATE\"), F.col(column_name), F.col(\"DEP_TIME\")))\n",
    "\n",
    "\n",
    "    #add column with error code details\n",
    "    df = df.withColumn(\"CANCELLATION_CODE_EXPLAINED\", explain_cancelation_code_udf(F.col(\"CANCELLATION_CODE\")))\n",
    "\n",
    "    df.show(n=5, vertical = True)\n",
    "\n",
    "    df.count()\n",
    "\n",
    "    df.show()\n",
    "    df.write.mode(\"overwrite\").format(\"parquet\").save(f\"data/Clean_Data/{name}\")\n"
   ]
  },
  {
   "cell_type": "code",
   "execution_count": null,
   "metadata": {
    "ExecuteTime": {
     "end_time": "2024-04-08T07:40:08.671146Z",
     "start_time": "2024-04-08T07:36:35.899Z"
    }
   },
   "outputs": [],
   "source": [
    "# Drop the cols which indirectly indicate if a flight is cancelled or not (apart from the column CANCELLED)\n",
    "# Most of those cols contain null values, if the flight is cancelled\n",
    "\n",
    "classify_df = df.drop(\"CARRIER_DELAY\", \n",
    "                        \"WEATHER_DELAY\",\n",
    "                        \"NAS_DELAY\",\n",
    "                        \"SECURITY_DELAY\",\n",
    "                        \"LATE_AIRCRAFT_DELAY\",\n",
    "                        \"CANCELLATION_CODE\",\n",
    "                        \"DEP_TIME\",\n",
    "                        \"DEP_DELAY\",\n",
    "                        \"TAXI_OUT\",\n",
    "                        \"WHEELS_OFF\",\n",
    "                        \"WHEELS_ON\",\n",
    "                        \"TAXI_IN\",\n",
    "                        \"ARR_TIME\",\n",
    "                        \"ARR_DELAY\",\n",
    "                        \"ACTUAL_ELAPSED_TIME\", \n",
    "                        \"AIR_TIME\")"
   ]
  },
  {
   "cell_type": "code",
   "execution_count": null,
   "metadata": {
    "ExecuteTime": {
     "end_time": "2024-04-08T07:40:08.672312Z",
     "start_time": "2024-04-08T07:36:35.902Z"
    }
   },
   "outputs": [],
   "source": [
    "# Convert timestamp column to numerical\n",
    "classify_df = classify_df.withColumn(\"FL_DATE\", F.unix_timestamp(\"FL_DATE\"))"
   ]
  },
  {
   "cell_type": "code",
   "execution_count": null,
   "metadata": {
    "ExecuteTime": {
     "end_time": "2024-04-08T07:40:08.739268Z",
     "start_time": "2024-04-08T07:36:35.904Z"
    }
   },
   "outputs": [],
   "source": [
    "classify_df.columns"
   ]
  },
  {
   "cell_type": "code",
   "execution_count": null,
   "metadata": {
    "ExecuteTime": {
     "end_time": "2024-04-08T07:40:08.740481Z",
     "start_time": "2024-04-08T07:36:35.906Z"
    }
   },
   "outputs": [],
   "source": [
    "classify_df.show(5)"
   ]
  },
  {
   "cell_type": "code",
   "execution_count": null,
   "metadata": {
    "ExecuteTime": {
     "end_time": "2024-04-08T07:40:08.741696Z",
     "start_time": "2024-04-08T07:36:35.908Z"
    }
   },
   "outputs": [],
   "source": [
    "classify_df.count()"
   ]
  },
  {
   "cell_type": "code",
   "execution_count": null,
   "metadata": {
    "ExecuteTime": {
     "end_time": "2024-04-08T07:40:08.742686Z",
     "start_time": "2024-04-08T07:36:35.910Z"
    }
   },
   "outputs": [],
   "source": [
    "# Take a subset: either balanced (with subsampling) or unbalanced\n",
    "# we take a subset, because of memory limitations\n",
    "\n",
    "# select subsample of positive samples - 10%\n",
    "pos_df = classify_df.filter(F.col('CANCELLED').isin(1)).sample(fraction=0.1)\n",
    "# select an equal amount of negative samples (number of neg samples == number of pos samples)\n",
    "neg_df = classify_df.filter(F.col('CANCELLED').isin(0)).orderBy(F.rand()).limit(pos_df.count())\n",
    "\n",
    "\n",
    "# Combine pos_df and neg_df - 171146 rows\n",
    "classify_df = pos_df.union(neg_df).sample(fraction=1.0).cache()\n",
    "classify_df.show(5)"
   ]
  },
  {
   "cell_type": "code",
   "execution_count": null,
   "metadata": {
    "ExecuteTime": {
     "end_time": "2024-04-08T07:40:08.743795Z",
     "start_time": "2024-04-08T07:36:35.912Z"
    }
   },
   "outputs": [],
   "source": [
    "pos_df.count()"
   ]
  },
  {
   "cell_type": "code",
   "execution_count": null,
   "metadata": {
    "ExecuteTime": {
     "end_time": "2024-04-08T07:40:08.744846Z",
     "start_time": "2024-04-08T07:36:35.914Z"
    }
   },
   "outputs": [],
   "source": [
    "neg_df.count()"
   ]
  },
  {
   "cell_type": "code",
   "execution_count": null,
   "metadata": {
    "ExecuteTime": {
     "end_time": "2024-04-08T07:40:08.745962Z",
     "start_time": "2024-04-08T07:36:35.915Z"
    }
   },
   "outputs": [],
   "source": [
    "classify_df.count()"
   ]
  },
  {
   "cell_type": "markdown",
   "metadata": {
    "heading_collapsed": true
   },
   "source": [
    "### Preprocess data for training models"
   ]
  },
  {
   "cell_type": "code",
   "execution_count": null,
   "metadata": {
    "ExecuteTime": {
     "end_time": "2024-04-08T07:40:08.746956Z",
     "start_time": "2024-04-08T07:36:35.918Z"
    },
    "hidden": true
   },
   "outputs": [],
   "source": [
    "# Define StringIndexer: categorical (string) cols -> to column indices, \n",
    "# Each category gets a integer based on their frequency (start from 0)\n",
    "\n",
    "carrier_indexer = StringIndexer(inputCol=\"OP_CARRIER\", outputCol=\"OP_CARRIER_Index\")\n",
    "origin_indexer = StringIndexer(inputCol=\"ORIGIN\", outputCol=\"ORIGIN_Index\")\n",
    "dest_indexer = StringIndexer(inputCol=\"DEST\", outputCol=\"DEST_Index\")"
   ]
  },
  {
   "cell_type": "code",
   "execution_count": null,
   "metadata": {
    "ExecuteTime": {
     "end_time": "2024-04-08T07:40:08.748129Z",
     "start_time": "2024-04-08T07:36:35.919Z"
    },
    "hidden": true
   },
   "outputs": [],
   "source": [
    "# Define onehotencoder for a index columns \n",
    "onehotencoder_carrier_vector = OneHotEncoder(inputCol=\"OP_CARRIER_Index\", outputCol=\"OP_CARRIER_vec\")\n",
    "onehotencoder_origin_vector = OneHotEncoder(inputCol=\"ORIGIN_Index\", outputCol=\"ORIGIN_vec\")\n",
    "onehotencoder_dest_vector = OneHotEncoder(inputCol=\"DEST_Index\", outputCol=\"DEST_vec\")"
   ]
  },
  {
   "cell_type": "code",
   "execution_count": null,
   "metadata": {
    "ExecuteTime": {
     "end_time": "2024-04-08T07:40:08.749249Z",
     "start_time": "2024-04-08T07:36:35.922Z"
    },
    "hidden": true
   },
   "outputs": [],
   "source": [
    "# Pipelining the preprocessing stages defined above \n",
    "pipeline = Pipeline(stages=[carrier_indexer, origin_indexer, dest_indexer,\n",
    "                            onehotencoder_carrier_vector, onehotencoder_origin_vector,\n",
    "                            onehotencoder_dest_vector])\n",
    "\n",
    "transformed_df = pipeline.fit(classify_df).transform(classify_df)"
   ]
  },
  {
   "cell_type": "code",
   "execution_count": null,
   "metadata": {
    "ExecuteTime": {
     "end_time": "2024-04-08T07:40:08.750395Z",
     "start_time": "2024-04-08T07:36:35.923Z"
    },
    "hidden": true
   },
   "outputs": [],
   "source": [
    "transformed_df.show(5)"
   ]
  },
  {
   "cell_type": "code",
   "execution_count": null,
   "metadata": {
    "ExecuteTime": {
     "end_time": "2024-04-08T07:40:08.751337Z",
     "start_time": "2024-04-08T07:36:35.925Z"
    },
    "hidden": true
   },
   "outputs": [],
   "source": [
    "# Select columns that are combined to one feature column\n",
    "feature_columns = transformed_df.columns\n",
    "\n",
    "# Remove cols that whould not be in our feature cols (label col, intermediate preprocessing cols)\n",
    "for item in [\"CANCELLED\", \"ORIGIN\", \"DEST\", \"OP_CARRIER\", \"OP_CARRIER_Index\", \"ORIGIN_Index\", \"DEST_Index\"]:\n",
    "    feature_columns.remove(item)\n",
    "\n",
    "\n",
    "assembler = VectorAssembler(inputCols=feature_columns, outputCol=\"features\")\n",
    "\n",
    "# Build feature col\n",
    "assembled_df = assembler.transform(transformed_df)"
   ]
  },
  {
   "cell_type": "code",
   "execution_count": null,
   "metadata": {
    "ExecuteTime": {
     "end_time": "2024-04-08T07:40:08.752305Z",
     "start_time": "2024-04-08T07:36:35.926Z"
    },
    "hidden": true
   },
   "outputs": [],
   "source": [
    "# Select only feature and label column\n",
    "final_classify_df = assembled_df.select(\"features\", F.col(\"CANCELLED\").alias(\"label\"))"
   ]
  },
  {
   "cell_type": "code",
   "execution_count": null,
   "metadata": {
    "ExecuteTime": {
     "end_time": "2024-04-08T07:40:08.753268Z",
     "start_time": "2024-04-08T07:36:35.928Z"
    },
    "hidden": true
   },
   "outputs": [],
   "source": [
    "final_classify_df.printSchema()"
   ]
  },
  {
   "cell_type": "code",
   "execution_count": null,
   "metadata": {
    "ExecuteTime": {
     "end_time": "2024-04-08T07:40:08.754294Z",
     "start_time": "2024-04-08T07:36:35.929Z"
    },
    "hidden": true
   },
   "outputs": [],
   "source": [
    "train, test = final_classify_df.randomSplit([.7, .3], seed=9) # 70, 30 split on balanced set or on subset of samples"
   ]
  },
  {
   "cell_type": "code",
   "execution_count": null,
   "metadata": {
    "ExecuteTime": {
     "end_time": "2024-04-08T07:40:08.755975Z",
     "start_time": "2024-04-08T07:36:35.931Z"
    },
    "hidden": true
   },
   "outputs": [],
   "source": [
    "spark.catalog.clearCache()\n",
    "# caching data into memory - models run quicker\n",
    "train = train.repartition(32).cache()\n",
    "test = test.repartition(32).cache()"
   ]
  },
  {
   "cell_type": "markdown",
   "metadata": {},
   "source": [
    "### Train models"
   ]
  },
  {
   "cell_type": "code",
   "execution_count": null,
   "metadata": {
    "ExecuteTime": {
     "end_time": "2024-04-08T07:40:08.756901Z",
     "start_time": "2024-04-08T07:36:35.934Z"
    }
   },
   "outputs": [],
   "source": [
    "# Define the models\n",
    "decision_tree = DecisionTreeClassifier(labelCol = 'label', featuresCol = 'features')\n",
    "rand_forest = RandomForestClassifier(labelCol = 'label', featuresCol = 'features')\n",
    "gbt = GBTClassifier(labelCol = 'label', featuresCol = 'features')"
   ]
  },
  {
   "cell_type": "code",
   "execution_count": null,
   "metadata": {
    "ExecuteTime": {
     "end_time": "2024-04-08T07:40:08.757843Z",
     "start_time": "2024-04-08T07:36:35.937Z"
    }
   },
   "outputs": [],
   "source": [
    "decision_tree_model = decision_tree.fit(train)"
   ]
  },
  {
   "cell_type": "code",
   "execution_count": null,
   "metadata": {
    "ExecuteTime": {
     "end_time": "2024-04-08T07:40:08.758783Z",
     "start_time": "2024-04-08T07:36:35.938Z"
    }
   },
   "outputs": [],
   "source": [
    "rand_forest_model = rand_forest.fit(train)"
   ]
  },
  {
   "cell_type": "code",
   "execution_count": null,
   "metadata": {
    "ExecuteTime": {
     "end_time": "2024-04-08T07:40:08.759731Z",
     "start_time": "2024-04-08T07:36:35.940Z"
    }
   },
   "outputs": [],
   "source": [
    "gbt_model = gbt.fit(train)"
   ]
  }
 ],
 "metadata": {
  "kernelspec": {
   "display_name": "Python 3",
   "language": "python",
   "name": "python3"
  },
  "language_info": {
   "codemirror_mode": {
    "name": "ipython",
    "version": 3
   },
   "file_extension": ".py",
   "mimetype": "text/x-python",
   "name": "python",
   "nbconvert_exporter": "python",
   "pygments_lexer": "ipython3",
   "version": "3.6.7"
  },
  "toc": {
   "base_numbering": 1,
   "nav_menu": {},
   "number_sections": true,
   "sideBar": true,
   "skip_h1_title": false,
   "title_cell": "Table of Contents",
   "title_sidebar": "Contents",
   "toc_cell": false,
   "toc_position": {},
   "toc_section_display": true,
   "toc_window_display": false
  }
 },
 "nbformat": 4,
 "nbformat_minor": 2
}
